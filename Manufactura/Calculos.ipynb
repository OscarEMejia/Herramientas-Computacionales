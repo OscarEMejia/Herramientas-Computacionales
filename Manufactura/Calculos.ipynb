{
<<<<<<< HEAD
  "cells": [
    {
      "cell_type": "code",
      "source": [
        "import numpy as np\n",
        "import pylab as plt\n",
        "import math "
      ],
      "outputs": [],
      "execution_count": 1,
      "metadata": {
        "collapsed": false,
        "outputHidden": false,
        "inputHidden": false
      }
    },
    {
      "cell_type": "markdown",
      "source": [
        "## Caracteristicas del material"
      ],
      "metadata": {}
    },
    {
      "cell_type": "code",
      "source": [
        "#Caracteristicas del Material\n",
        "Sigma_y = 250e6 #Esfuerzo del Material\n",
        "f_s=2.5 #Factor de Seguridad\n",
        "Sigma_max=Sigma_y/f_s # Esfuerzo Maximo Permitido\n",
        "print(\"Esfuerzo Maximo Permitido %.2f MPa\" %(Sigma_max/(10**6)))\n",
        "densidad=   7850 # kg/ m^3"
      ],
      "outputs": [
        {
          "output_type": "stream",
          "name": "stdout",
          "text": [
            "Esfuerzo Maximo Permitido 100.00 MPa\n"
          ]
        }
      ],
      "execution_count": 2,
      "metadata": {
        "collapsed": false,
        "outputHidden": false,
        "inputHidden": false
      }
    },
    {
      "cell_type": "markdown",
      "source": [
        "## Condicion de carga"
      ],
      "metadata": {}
    },
    {
      "cell_type": "code",
      "source": [
        "#Cargas\n",
        "F=1000*9.81 #Peso para Diseño del gato"
      ],
      "outputs": [],
      "execution_count": 3,
      "metadata": {
        "collapsed": false,
        "outputHidden": false,
        "inputHidden": false
      }
    },
    {
      "cell_type": "markdown",
      "source": [
        "## Condicion geometrica"
      ],
      "metadata": {}
    },
    {
      "cell_type": "code",
      "source": [
        "#Largo de los Brazos \n",
        "L1=0.18 # metros\n",
        "L2= L1 # metros\n",
        "L3=L1 # metros\n",
        "L4=L1 # metros\n",
        "\n\n",
        "#Angulo minimo\n",
        "\n\n",
        "#Largo del tornillo\n",
        "wt = 0.4\n",
        "w1=16.124/100 #metros\n",
        "w3=w1\n",
        "w2 = wt-w1-w3\n",
        "theta=math.acos(w1/L1)\n",
        "theta = np.radians(35)\n",
        "print('Angulo inicial de los brazos frente a la horizontal %.2f °' %(math.degrees(theta)))"
      ],
      "outputs": [
        {
          "output_type": "stream",
          "name": "stdout",
          "text": [
            "Angulo inicial de los brazos frente a la horizontal 35.00 °\n"
          ]
        }
      ],
      "execution_count": 4,
      "metadata": {
        "collapsed": false,
        "outputHidden": false,
        "inputHidden": false
      }
    },
    {
      "cell_type": "code",
      "source": [
        "2*L1*np.sin(theta)"
      ],
      "outputs": [
        {
          "output_type": "execute_result",
          "execution_count": 5,
          "data": {
            "text/plain": [
              "0.20648751708637658"
            ]
          },
          "metadata": {}
        }
      ],
      "execution_count": 5,
      "metadata": {
        "collapsed": false,
        "outputHidden": false,
        "inputHidden": false
      }
    },
    {
      "cell_type": "markdown",
      "source": [
        "## Cargas\n",
        "** Se asume un tornillo trapesoidal**"
      ],
      "metadata": {}
    },
    {
      "cell_type": "code",
      "source": [
        "#  Tension del Tornillo\n",
        "T = F/(2*math.tan(theta))  # N\n",
        "Dc = (2*T*(4/(math.pi*Sigma_max)))**(1/2) #Diametro interno (m)\n",
        "P= 1/6*2.54/100  #Taking pitch [mm]\n",
        "Dc = round(Dc*1.2*1000)/1000\n",
        "#Do= Dc+P/1000 # Diametro exterior\n",
        "#D =  (Do+Dc)/2 # Diametro medio\n",
        "D= 7/8*2.54/100\n",
        "Dc = D-P/2\n",
        "Do =  Dc +P/2\n",
        "alpha = math.atan(2*P/(math.pi)*D) # Angulo de apertura del tornillo\n"
      ],
      "outputs": [],
      "execution_count": 6,
      "metadata": {
        "collapsed": false,
        "outputHidden": false,
        "inputHidden": false
      }
    },
    {
      "cell_type": "code",
      "source": [
        "## Friccion\n",
        "miu =  0.2 ##coeficiente de friccion\n",
        "phi =  math.atan(miu) # Angulo de friccion"
      ],
      "outputs": [],
      "execution_count": 7,
      "metadata": {
        "collapsed": false,
        "outputHidden": false,
        "inputHidden": false
      }
    },
    {
      "cell_type": "markdown",
      "source": [
        "$ \\phi > \\alpha $ se asegura que el gato se auto bloquea"
      ],
      "metadata": {}
    },
    {
      "cell_type": "code",
      "source": [
        "effort =2*T*math.tan(miu+alpha)\n",
        "print(\"Fuerza requerido para soportar la carga %.2f N\" % effort)\n",
        "Tor = effort* D/2 \n",
        "print(\"Torque requerido para soportar la carga %.2f Nm\" % Tor)\n",
        "tau = 16*Tor/(math.pi * Dc**3)\n",
        "##Esfuerzo cortante del tornillo\n",
        "tau2=tau/(10**6)\n",
        "print(\"Esfuerzo cortante para soportar la carga %.2f MPa\" % tau2)\n",
        "##Esfuerzo Normal del tornillo\n",
        "sigma_t = 4*T/(math.pi*Dc**2)\n",
        "sigma_t2 =sigma_t/(10**6)\n",
        "print(\"Esfuerzo normal para soportar la carga %.2f MPa\" % sigma_t2)\n",
        "## Esfuerzo normal principal\n",
        "sigma_tmax =sigma_t/2+((sigma_t/2)**2+tau**2)**(1/2)\n",
        "sigma_tmax1 = sigma_tmax/(10**6)\n",
        "sigma_tmax2 =sigma_t/2-((sigma_t/2)**2+tau**2)**(1/2)\n",
        "sigma_tmax12 = sigma_tmax2/(10**6)\n",
        "print(\"Esfuerzo principal normal 1 para soportar la carga %.2f MPa\" % sigma_tmax1)\n",
        "print(\"Esfuerzo principal normal 2 para soportar la carga %.2f MPa\" % sigma_tmax12)\n",
        "fac = (Sigma_max**2/ (sigma_tmax**2-(sigma_tmax*sigma_tmax2)+sigma_tmax2**2))**(1/2)\n",
        "print(\"Factor de seguridad segun Teoria de maxima distorsion de energia : %.2f\" % fac)\n",
        "fac = (Sigma_max)/ abs(sigma_tmax-sigma_tmax2)\n",
        "print(\"Factor de seguridad segun Teoria de maximo esfuerzo cortante : %.2f\" % fac)\n",
        "tau_max=((sigma_t**2)/2+tau**2)**(1/2)\n",
        "tau_max2 = tau_max /(10**6)\n",
        "print(\"Esfuerzo principal cortante para soportar la carga %.2f MPa\" % tau_max2)"
      ],
      "outputs": [
        {
          "output_type": "stream",
          "name": "stdout",
          "text": [
            "Fuerza requerido para soportar la carga 2840.87 N\n",
            "Torque requerido para soportar la carga 31.57 Nm\n",
            "Esfuerzo cortante para soportar la carga 19.77 MPa\n",
            "Esfuerzo normal para soportar la carga 22.06 MPa\n",
            "Esfuerzo principal normal 1 para soportar la carga 33.67 MPa\n",
            "Esfuerzo principal normal 2 para soportar la carga -11.61 MPa\n",
            "Factor de seguridad segun Teoria de maxima distorsion de energia : 2.45\n",
            "Factor de seguridad segun Teoria de maximo esfuerzo cortante : 2.21\n",
            "Esfuerzo principal cortante para soportar la carga 25.19 MPa\n"
          ]
        }
      ],
      "execution_count": 8,
      "metadata": {
        "collapsed": false,
        "outputHidden": false,
        "inputHidden": false
      }
    },
    {
      "cell_type": "markdown",
      "source": [
        "** Analisis 2 **"
      ],
      "metadata": {}
    },
    {
      "cell_type": "code",
      "source": [
        "#d= 7/8*2.54/100\n",
        "#T=6400\n",
        "dm =D\n",
        "dr = Dc\n",
        "p = 4/1000\n",
        "nt = 1\n",
        "l=nt*p\n",
        "lambda2= l/(np.pi*D)\n",
        "Pr = T*(lambda2+miu)/(1-(miu*lambda2))\n",
        "print('Carga', Pr)\n",
        "Tr = T*dm/2*(l+(np.pi*miu*dm))/(np.pi*dm-miu*l)+T*miu*40/2000\n",
        "print('Momento',Tr)\n",
        "tau_p= 16*Tr/(np.pi*dr**3)\n",
        "print('Cortante',tau_p/10**6)\n",
        "sigma = -4*T/(np.pi*dr**2)\n",
        "print('Axial',sigma/10**6)\n",
        "sigma_b = -2*(0.38*T)/(np.pi*dm*1*p) ## Esfuerzo de apoyo de una rosca\n",
        "print('Esfuerzo de apoyo',sigma_b/10**6) \n",
        "sigma_b1 = 6*(0.38*T)/(np.pi*dr*1*p)  ## esfuerzo flexionante\n",
        "print('Esfuerzo flexionante',sigma_b1/10**6) \n",
        "\n",
        "s_x = 6*T/(np.pi*dr*nt*p)\n",
        "print('s_x',s_x/10**6)\n",
        "t_yz = 16*Tr/(np.pi*dr**3)\n",
        "print('t_yz',t_yz/10**6)\n",
        "s_z = -4*T/(np.pi*dr**2)\n",
        "print('s__z',s_z/10**6)\n",
        "sigma_prim = 1/(2**(1/2))*((s_x)**2+(s_z)**2+(-s_x+s_z)**2+6*(t_yz)**2)**(1/2)\n",
        "print('von misses',sigma_prim/10**6)\n",
        "sigma_prim = 1/(2**(1/2))*((sigma_b-sigma_tmax)**2+(sigma_tmax-sigma_tmax2)**2+(sigma_tmax2-sigma_b)**2)**(1/2)\n",
        "print('von misses', sigma_prim/10**6)\n"
      ],
      "outputs": [
        {
          "output_type": "stream",
          "name": "stdout",
          "text": [
            "Carga 1823.2136241913188\n",
            "Momento 48.280725291106315\n",
            "Cortante 30.242359242893823\n",
            "Axial -22.058206429093044\n",
            "Esfuerzo de apoyo -19.062251203311455\n",
            "Esfuerzo flexionante 63.2064118846643\n",
            "s_x 166.33266285437975\n",
            "t_yz 30.242359242893823\n",
            "s__z -22.058206429093044\n",
            "von misses 185.91912299160788\n",
            "von misses 49.43178323455067\n"
          ]
        }
      ],
      "execution_count": 9,
      "metadata": {
        "collapsed": false,
        "outputHidden": false,
        "inputHidden": false
      }
    },
    {
      "cell_type": "code",
      "source": [
        "D"
      ],
      "outputs": [
        {
          "output_type": "execute_result",
          "execution_count": 10,
          "data": {
            "text/plain": [
              "0.022225"
            ]
          },
          "metadata": {}
        }
      ],
      "execution_count": 10,
      "metadata": {
        "collapsed": false,
        "outputHidden": false,
        "inputHidden": false
      }
    },
    {
      "cell_type": "markdown",
      "source": [
        "### Tuerca\n",
        "Material: Acero 1035\n"
      ],
      "metadata": {}
    },
    {
      "cell_type": "code",
      "source": [
        "Pb= 1800*6900# Bearing pressure\n",
        "n = round(2*T/(Pb*(math.pi*(Do3**2-Dc**2)))) #numero de hilos\n",
        "Nt = n * P/1000 # grosor de tuerca [ m]\n",
        "b = 1.5*Do  #Ancho tuerca [m]\n",
        "print (\" Numero de dientes %.0f , Grosor de tuerca %.2f [m] , Ancho de Tuerca %.3f [m]\" %(n,Nt,b) )"
      ],
      "outputs": [
        {
          "output_type": "stream",
          "name": "stdout",
          "text": [
            " Numero de dientes 4 , Grosor de tuerca 0.00 [m] , Ancho de Tuerca 0.033 [m]\n"
          ]
        }
      ],
      "execution_count": 11,
      "metadata": {
        "collapsed": false,
        "outputHidden": false,
        "inputHidden": false
      }
    },
    {
      "cell_type": "code",
      "source": [
        "# Pins in Nut \n",
        "# Material Acero\n",
        "tau_s = 50*10**6\n",
        "d1 = ((4*F)/(2*tau_s*math.pi) )**(1/2)\n",
        "d1=round(d1*1000)/1000\n",
        "h = 1.5*d1\n",
        "print(\"Dimetro de los pines de la tuerca es de %.3f m, y el diametro de la cabeza es de %.3f m \" %(d1,h))"
      ],
      "outputs": [
        {
          "output_type": "stream",
          "name": "stdout",
          "text": [
            "Dimetro de los pines de la tuerca es de 0.011 m, y el diametro de la cabeza es de 0.017 m \n"
          ]
        }
      ],
      "execution_count": 12,
      "metadata": {
        "collapsed": false,
        "outputHidden": false,
        "inputHidden": false
      }
    },
    {
      "cell_type": "markdown",
      "source": [
        "## Concentradores de esfuerzo\n",
        "\n",
        "** Carga de los agujeros superiores ** \n",
        "\n",
        "$$ \\sigma = \\frac{F_2}{t h } $$\n",
        "$$F_2 =\\frac{F/2}{2sin(\\theta)}$$"
      ],
      "metadata": {}
    },
    {
      "cell_type": "code",
      "source": [
        "#theta =  np.arange(26,47,1)\n",
        "theta = np.radians(28)\n",
        "##Superior\n",
        "F2 = F/(2*np.sin(theta))\n",
        "F2 /= 2\n",
        "h= 30/1000\n",
        "t= 4/1000\n",
        "##Pin \n",
        "d= 10 /1000\n",
        "sigma_teorico = F2/(h*t)\n",
        "print(d/h)\n",
        "sigma_0 = h/(h-d)*sigma_teorico\n",
        "sigma_real =2.3* sigma_0\n",
        "print(sigma_real/10**6)\n",
        "print(Sigma_y/sigma_real)\n",
        "Fs=Sigma_y/sigma_real\n",
        "## Grafica \n",
        "#plt.title('Factor de Seguridad')\n",
        "#plt.plot(np.degrees(theta),Fs)\n",
        "#plt.xlabel('$\\\\theta (°)$')\n",
        "#plt.ylabel('Factor de Seguridad')\n",
        "#plt.grid(True)\n",
        "#plt.savefig('Suppin.jpg')\n",
        "## T\n",
        "d= 2*9.5 /1000\n",
        "sigma_teorico = F2/(h*t)\n",
        "print(d/h)\n",
        "sigma_0 = h/(h-d)*sigma_teorico\n",
        "sigma_real =2.1* sigma_0\n",
        "print(sigma_real/10**6)\n",
        "print(Sigma_y/sigma_real)\n",
        "Fs2=Sigma_y/sigma_real\n",
        "##Grafica\n",
        "#plt.figure()\n",
        "#plt.title('Factor de Seguridad')\n",
        "#plt.plot(np.degrees(theta),Fs2)\n",
        "#plt.xlabel('$\\\\theta (°)$')\n",
        "#plt.ylabel('Factor de Seguridad')\n",
        "#plt.grid(True)\n",
        "#plt.savefig('Suppin.jpg')"
      ],
      "outputs": [
        {
          "output_type": "stream",
          "name": "stdout",
          "text": [
            "0.33333333333333337\n",
            "150.18880926799991\n",
            "1.6645714232536126\n",
            "0.6333333333333333\n",
            "249.32529601802358\n",
            "1.0027061192456286\n"
          ]
        }
      ],
      "execution_count": 25,
      "metadata": {
        "collapsed": false,
        "outputHidden": false,
        "inputHidden": false
      }
    },
    {
      "cell_type": "code",
      "source": [
        "##Inferior \n",
        "F2 = F/2\n",
        "F2 /= 2*np.sin(theta)\n",
        "h= 41.78/1000\n",
        "t= 4/1000\n",
        "##Pin\n",
        "d= 10 /1000\n",
        "sigma_teorico = F2/(h*t)\n",
        "print(d/h)\n",
        "sigma_0 = h/(h-d)*sigma_teorico\n",
        "sigma_real =2.45* sigma_0\n",
        "print(sigma_real/10**6)\n",
        "print(Sigma_y/sigma_real)\n",
        "Fs=Sigma_y/sigma_real\n",
        "## Grafica \n",
        "plt.title('Factor de Seguridad')\n",
        "plt.plot(np.degrees(theta),Fs)\n",
        "plt.xlabel('$\\\\theta (°)$')\n",
        "plt.ylabel('Factor de Seguridad')\n",
        "plt.grid(True)\n",
        "plt.savefig('Infpin.jpg')\n",
        "## T\n",
        "d= 2*9.5 /1000\n",
        "sigma_teorico = F2/(h*t)\n",
        "print(d/h)\n",
        "sigma_0 = h/(h-d)*sigma_teorico\n",
        "sigma_real =2.25* sigma_0\n",
        "print(sigma_real/10**6)\n",
        "print(Sigma_y/sigma_real)\n",
        "Fs2=Sigma_y/sigma_real\n",
        "##Grafica\n",
        "plt.figure()\n",
        "plt.title('Factor de Seguridad')\n",
        "plt.plot(np.degrees(theta),Fs2)\n",
        "plt.xlabel('$\\\\theta (°)$')\n",
        "plt.ylabel('Factor de Seguridad')\n",
        "plt.grid(True)\n",
        "plt.savefig('InfT.jpg')\n"
      ],
      "outputs": [
        {
          "output_type": "stream",
          "name": "stdout",
          "text": [
            "0.23934897079942558\n",
            "4433.4995061014515\n",
            "0.05638886384354979\n",
            "0.4547630445189086\n",
            "5680.1953411296045\n",
            "0.0440125708687834\n"
          ]
        },
        {
          "output_type": "display_data",
          "data": {
            "text/plain": [
              "<matplotlib.figure.Figure at 0xe8da3cef98>"
            ],
            "image/png": [
              "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\n"
            ]
          },
          "metadata": {}
        },
        {
          "output_type": "display_data",
          "data": {
            "text/plain": [
              "<matplotlib.figure.Figure at 0xe8da400b70>"
            ],
            "image/png": [
              "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\n"
            ]
          },
          "metadata": {}
        }
      ],
      "execution_count": 14,
      "metadata": {
        "collapsed": false,
        "outputHidden": false,
        "inputHidden": false
      }
    },
    {
      "cell_type": "code",
      "source": [
        "V = F2\n",
        "A = np.pi*(10/1000)**2\n",
        "tau = 4/3*V/A\n",
        "tau/10**6\n",
        "\n"
      ],
      "outputs": [
        {
          "output_type": "execute_result",
          "execution_count": 15,
          "data": {
            "text/plain": [
              "976.300087352537"
            ]
          },
          "metadata": {}
        }
      ],
      "execution_count": 15,
      "metadata": {
        "collapsed": false,
        "outputHidden": false,
        "inputHidden": false
      }
    },
    {
      "cell_type": "markdown",
      "source": [
        "## Brazos superiores\n",
        "Material Acero"
      ],
      "metadata": {}
    },
    {
      "cell_type": "code",
      "source": [
        "load = (F/2)/(np.sin(theta))\n",
        "t=4/1000 #espesor [m]\n",
        "b = 40 /1000 ## ancho base [m]\n",
        "h = 30/1000 ## alto base [m]\n",
        "A= 2*(h*t)+((b-2*t)*t) #Area transversal\n",
        "I=(t*h**3)/(1000*12) # Momento de inercia\n",
        "k= (I/A)**(1/2) ## radio de giro\n",
        "\n",
        "a  = 1/7500 ## numero de rankine\n",
        "\n",
        "print(\"Area transversal %.5f [$ m^2 $]\" %(A))\n"
      ],
      "outputs": [
        {
          "output_type": "stream",
          "name": "stdout",
          "text": [
            "Area transversal 0.00037 [$ m^2 $]\n"
          ]
        }
      ],
      "execution_count": 16,
      "metadata": {
        "collapsed": false,
        "outputHidden": false,
        "inputHidden": false
      }
    },
    {
      "cell_type": "code",
      "source": [
        "sigma_c = 320*10**6 ## Esfuerzo de Compresion\n",
        "P_cr = (sigma_c*A)/(1+a*(L1/k)**(1/2))\n",
        "print(\"Carga Critica: %.2f kN , factor de Seguridad %.2f\" %(P_cr/1000,P_cr/load) )\n",
        "\n## Plato Superior"
      ],
      "outputs": [
        {
          "output_type": "stream",
          "name": "stdout",
          "text": [
            "Carga Critica: 117.23 kN , factor de Seguridad 0.25\n"
          ]
        }
      ],
      "execution_count": 17,
      "metadata": {
        "collapsed": false,
        "outputHidden": false,
        "inputHidden": false
      }
    },
    {
      "cell_type": "code",
      "source": [
        "l=50/1000 \n",
        "b=36/1000\n",
        "h=40/1000\n",
        "M = F*l/4 #Nm\n",
        "Z=(b*h**2)/6 ## mm3\n",
        "sigma_b = M/Z"
      ],
      "outputs": [],
      "execution_count": 18,
      "metadata": {
        "collapsed": false,
        "outputHidden": false,
        "inputHidden": false
      }
=======
 "cells": [
  {
   "cell_type": "code",
   "execution_count": 1,
   "metadata": {
    "inputHidden": false,
    "outputHidden": false
   },
   "outputs": [],
   "source": [
    "import numpy as np\n",
    "import pylab as plt\n",
    "import math "
   ]
  },
  {
   "cell_type": "markdown",
   "metadata": {},
   "source": [
    "## Caracteristicas del material"
   ]
  },
  {
   "cell_type": "code",
   "execution_count": 2,
   "metadata": {
    "inputHidden": false,
    "outputHidden": false
   },
   "outputs": [
    {
     "name": "stdout",
     "output_type": "stream",
     "text": [
      "Esfuerzo Maximo Permitido 105.00 MPa\n"
     ]
    }
   ],
   "source": [
    "#Caracteristicas del Material\n",
    "Sigma_y = 210e6 #Esfuerzo del Material\n",
    "f_s=2 #Factor de Seguridad\n",
    "Sigma_max=Sigma_y/f_s # Esfuerzo Maximo Permitido\n",
    "print(\"Esfuerzo Maximo Permitido %.2f MPa\" %(Sigma_max/(10**6)))\n",
    "densidad=   7850 # kg/ m^3"
   ]
  },
  {
   "cell_type": "markdown",
   "metadata": {},
   "source": [
    "## Condicion de carga"
   ]
  },
  {
   "cell_type": "code",
   "execution_count": 3,
   "metadata": {
    "inputHidden": false,
    "outputHidden": false
   },
   "outputs": [],
   "source": [
    "#Cargas\n",
    "F=1000*9.81 #Peso para Diseño del gato"
   ]
  },
  {
   "cell_type": "markdown",
   "metadata": {},
   "source": [
    "## Condicion geometrica"
   ]
  },
  {
   "cell_type": "code",
   "execution_count": 4,
   "metadata": {
    "inputHidden": false,
    "outputHidden": false
   },
   "outputs": [
    {
     "name": "stdout",
     "output_type": "stream",
     "text": [
      "Angulo inicial de los brazos frente a la horizontal 25.84 °\n"
     ]
    }
   ],
   "source": [
    "#Largo de los Brazos \n",
    "L1=0.2 # metros\n",
    "L2= 0.2 # metros\n",
    "L3=0.2 # metros\n",
    "L4=0.2 # metros\n",
    "\n",
    "#Largo del tornillo\n",
    "wt = 0.4\n",
    "w1=0.18 #metros\n",
    "w3=w1\n",
    "w2 = wt-w1-w3\n",
    "\n",
    "#Angulo minimo\n",
    "theta=math.acos((w1)/L1)\n",
    "print('Angulo inicial de los brazos frente a la horizontal %.2f °' %(math.degrees(theta)))"
   ]
  },
  {
   "cell_type": "markdown",
   "metadata": {},
   "source": [
    "## Cargas\n",
    "** Se asume un tornillo trapesoidal**"
   ]
  },
  {
   "cell_type": "code",
   "execution_count": 5,
   "metadata": {
    "inputHidden": false,
    "outputHidden": false
   },
   "outputs": [],
   "source": [
    "#  Tension del Tornillo\n",
    "T = F/(2*math.tan(theta))  # N\n",
    "Dc = (2*T*(4/(math.pi*Sigma_max)))**(1/2) #Diametro interno (m)\n",
    "P= 2  #Taking pitch [mm]\n",
    "Dc = round(Dc*1.15*1000)/1000\n",
    "Do= Dc+P/1000 # Diametro exterior\n",
    "D =  (Do+Dc)/2 # Diametro medio\n",
    "alpha = math.atan(2*P/(math.pi)*D) # Angulo de apertura del tornillo\n"
   ]
  },
  {
   "cell_type": "code",
   "execution_count": 6,
   "metadata": {
    "inputHidden": false,
    "outputHidden": false
   },
   "outputs": [],
   "source": [
    "## Friccion\n",
    "miu =  0.2 ##coeficiente de friccion\n",
    "phi =  math.atan(miu) # Angulo de friccion"
   ]
  },
  {
   "cell_type": "markdown",
   "metadata": {},
   "source": [
    "$ \\phi > \\alpha $ se asegura que el gato se auto bloquea"
   ]
  },
  {
   "cell_type": "code",
   "execution_count": 7,
   "metadata": {
    "inputHidden": false,
    "outputHidden": false
   },
   "outputs": [
    {
     "name": "stdout",
     "output_type": "stream",
     "text": [
      "Fuerza requerido para soportar la carga 4618.57 N\n",
      "Torque requerido para soportar la carga 43.88 Nm\n",
      "Esfuerzo cortante para soportar la carga 38.32 MPa\n",
      "Esfuerzo normal para soportar la carga 79.60 MPa\n",
      "Esfuerzo principal normal para soportar la carga 107.89 MPa\n",
      "Esfuerzo principal cortante para soportar la carga 68.09 MPa\n"
     ]
    }
   ],
   "source": [
    "effort =2*T*math.tan(miu+alpha)\n",
    "print(\"Fuerza requerido para soportar la carga %.2f N\" % effort)\n",
    "Tor = effort* D/2 \n",
    "print(\"Torque requerido para soportar la carga %.2f Nm\" % Tor)\n",
    "tau = 16*Tor/(math.pi * Dc**3)\n",
    "##Esfuerzo cortante del tornillo\n",
    "tau2=tau/(10**6)\n",
    "print(\"Esfuerzo cortante para soportar la carga %.2f MPa\" % tau2)\n",
    "##Esfuerzo Normal del tornillo\n",
    "sigma_t = 2*T/(math.pi/4*Dc**2)\n",
    "sigma_t2 =sigma_t/(10**6)\n",
    "print(\"Esfuerzo normal para soportar la carga %.2f MPa\" % sigma_t2)\n",
    "## Esfuerzo normal principal\n",
    "sigma_tmax =sigma_t/2+((sigma_t**2)/2+tau**2)**(1/2)\n",
    "sigma_tmax2 = sigma_tmax/(10**6)\n",
    "print(\"Esfuerzo principal normal para soportar la carga %.2f MPa\" % sigma_tmax2)\n",
    "tau_max=((sigma_t**2)/2+tau**2)**(1/2)\n",
    "tau_max2 = tau_max /(10**6)\n",
    "print(\"Esfuerzo principal cortante para soportar la carga %.2f MPa\" % tau_max2)"
   ]
  },
  {
   "cell_type": "markdown",
   "metadata": {},
   "source": [
    "### Tuerca\n",
    "Material: Acero 1035\n"
   ]
  },
  {
   "cell_type": "code",
   "execution_count": 8,
   "metadata": {
    "inputHidden": false,
    "outputHidden": false
   },
   "outputs": [
    {
     "name": "stdout",
     "output_type": "stream",
     "text": [
      " Numero de dientes 7 , Grosor de tuerca 0.01 [m] , Ancho de Tuerca 0.03 [m]\n"
     ]
    }
   ],
   "source": [
    "Pb= 1800*6900# Bearing pressure\n",
    "n = round(2*T/(Pb*(math.pi*(Do**2-Dc**2)))) #numero de hilos\n",
    "Nt = n * P/1000 # grosor de tuerca [ m]\n",
    "b = 1.5*Do  #Ancho tuerca [m]\n",
    "print (\" Numero de dientes %.0f , Grosor de tuerca %.2f [m] , Ancho de Tuerca %.2f [m]\" %(n,Nt,b) )"
   ]
  },
  {
   "cell_type": "code",
   "execution_count": 9,
   "metadata": {
    "inputHidden": false,
    "outputHidden": false
   },
   "outputs": [
    {
     "name": "stdout",
     "output_type": "stream",
     "text": [
      "Dimetro de los pines de la tuerca es de 0.008 m, y el diametro de la cabeza es de 0.012 m \n"
     ]
>>>>>>> 8760670145089383d1c63a241f056fc66b80c9d2
    }
   ],
   "source": [
    "# Pins in Nut \n",
    "# Material Acero\n",
    "tau_s = 50*10**6\n",
    "d1 = ((F/2)/(2*tau_s*math.pi/4) )**(1/2)\n",
    "d1=round(d1*1000)/1000\n",
    "h = 1.5*d1\n",
    "print(\"Dimetro de los pines de la tuerca es de %.3f m, y el diametro de la cabeza es de %.3f m \" %(d1,h))"
   ]
  },
  {
   "cell_type": "markdown",
   "metadata": {},
   "source": [
    "## Brazos superiores\n",
    "Material Acero"
   ]
  },
  {
   "cell_type": "code",
   "execution_count": 14,
   "metadata": {
    "inputHidden": false,
    "outputHidden": false
   },
   "outputs": [],
   "source": [
    "f_s=2 #Factor de Seguridad\n",
    "Sigma_max=Sigma_y/f_s # Esfuerzo Maximo Permitido\n",
    "sigma_c = 1.25*Sigma_max ## Esfuerzo de Compresion\n",
    "load = F/2\n",
    "t=4 #mm\n",
    "b= 40/1000\n",
    "#b = 3*t/1000 #m\n",
    "A=(t/1000)*(b) #Area transversal\n",
    "I=(t*b**3)/(1000*12) # Momento de inercia\n",
    "k= (I/A)**(1/2) ## radio de giro\n",
    "\n",
    "a  = 1/7500 ## numero de rankine"
   ]
  },
  {
   "cell_type": "code",
   "execution_count": 13,
   "metadata": {
    "inputHidden": false,
    "outputHidden": false
   },
   "outputs": [
    {
     "data": {
      "text/plain": [
       "2.0583392143025168"
      ]
     },
     "execution_count": 13,
     "metadata": {},
     "output_type": "execute_result"
    }
   ],
   "source": [
    "sigma_c = 1.25*Sigma_max\n",
    "P_cr = (sigma_c*A)/(1+a*(L1/k)**2)\n",
    "P_cr/F"
   ]
  },
  {
   "cell_type": "markdown",
   "metadata": {},
   "source": [
    "## Plato Superior"
   ]
  },
  {
   "cell_type": "code",
   "execution_count": null,
   "metadata": {
    "inputHidden": false,
    "outputHidden": false
   },
   "outputs": [],
   "source": [
    "l=50/1000 \n",
    "b=36/1000\n",
    "h=40/1000\n",
    "M = F*l/4 #Nm\n",
    "Z=(b*h**2)/6 ## mm3\n",
    "sigma_b = M/Z"
   ]
  }
 ],
 "metadata": {
  "kernel_info": {
   "name": "python3"
  },
  "kernelspec": {
   "display_name": "Python 3",
   "language": "python",
   "name": "python3"
  },
  "language_info": {
   "codemirror_mode": {
    "name": "ipython",
    "version": 3
   },
   "file_extension": ".py",
   "mimetype": "text/x-python",
   "name": "python",
   "nbconvert_exporter": "python",
   "pygments_lexer": "ipython3",
   "version": "3.6.4"
  },
  "nteract": {
   "version": "0.8.4"
  }
 },
 "nbformat": 4,
 "nbformat_minor": 4
}
