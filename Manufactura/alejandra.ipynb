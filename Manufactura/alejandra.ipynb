{
  "cells": [
    {
      "cell_type": "code",
      "source": [
        "%pylab inline\n",
        "import scipy\n",
        "from scipy.fftpack import fft, rfft,fftshift"
      ],
      "outputs": [
        {
          "output_type": "stream",
          "name": "stdout",
          "text": [
            "Populating the interactive namespace from numpy and matplotlib\n"
          ]
        }
      ],
      "execution_count": 2,
      "metadata": {
        "collapsed": false,
        "outputHidden": false,
        "inputHidden": false
      }
    },
    {
      "cell_type": "code",
      "source": [
        "y=[1,1,0,0,0,0,0,0,1,1,1]\n",
        "a=np.zeros(6)\n",
        "b=np.zeros(6)\n",
        "for n in range(0,6):\n",
        "    for r in range (0,11):\n",
        "        a[n]=a[n]+y[r]*cos(2*np.pi*(r+1)*(n)/11)\n",
        "        if n<5:\n",
        "            b[n+1]=b[n+1]+y[r]*sin(2*np.pi*(r+1)*(n+1)/11)\n",
        "    a[n]=a[n]*2/11\n",
        "    b[n]=b[n]*2/11\n",
        "b[0]=0\n",
        "b[5]=0"
      ],
      "outputs": [],
      "execution_count": 3,
      "metadata": {
        "collapsed": false,
        "outputHidden": false,
        "inputHidden": false
      }
    },
    {
      "cell_type": "code",
      "source": [
        "a"
      ],
      "outputs": [
        {
          "output_type": "execute_result",
          "execution_count": 4,
          "data": {
            "text/plain": [
              "array([ 0.90909091,  0.63878856,  0.09474701, -0.2188392 , -0.10806384,\n",
              "        0.13882202])"
            ]
          },
          "metadata": {}
        }
      ],
      "execution_count": 4,
      "metadata": {
        "collapsed": false,
        "outputHidden": false,
        "inputHidden": false
      }
    },
    {
      "cell_type": "code",
      "source": [
        "b"
      ],
      "outputs": [
        {
          "output_type": "execute_result",
          "execution_count": 5,
          "data": {
            "text/plain": [
              "array([ 0.00000000e+00, -2.26205469e-16, -3.11109827e-16, -5.57501169e-16,\n",
              "       -8.03892512e-16,  0.00000000e+00])"
            ]
          },
          "metadata": {}
        }
      ],
      "execution_count": 5,
      "metadata": {
        "collapsed": false,
        "outputHidden": false,
        "inputHidden": false
      }
    },
    {
      "cell_type": "code",
      "source": [
        "t = np.zeros(11)\n",
        "for r in range(1,12):\n",
        "    z=0\n",
        "    for n in range(1,5):\n",
        "        z+=a[n]*cos(2*np.pi*r*(n)/11)+b[n]*sin(2*np.pi*r*(n)/11)\n",
        "    t[r-1]=z+a[0]/2+a[5]/2*cos(np.pi*r)        "
      ],
      "outputs": [],
      "execution_count": 6,
      "metadata": {
        "collapsed": false,
        "outputHidden": false,
        "inputHidden": false
      }
    },
    {
      "cell_type": "code",
      "source": [
        "k=rfft(y)"
      ],
      "outputs": [],
      "execution_count": 7,
      "metadata": {
        "collapsed": false,
        "outputHidden": false,
        "inputHidden": false
      }
    },
    {
      "cell_type": "code",
      "source": [
        "k"
      ],
      "outputs": [
        {
          "output_type": "execute_result",
          "execution_count": 8,
          "data": {
            "text/plain": [
              "array([ 5.        ,  2.95560724,  1.89945344,  0.21647632,  0.47401702,\n",
              "        0.17129236, -1.19136455,  0.38921723, -0.44918062, -0.73259315,\n",
              "        0.21510876])"
            ]
          },
          "metadata": {}
        }
      ],
      "execution_count": 8,
      "metadata": {
        "collapsed": false,
        "outputHidden": false,
        "inputHidden": false
      }
    },
    {
      "cell_type": "code",
      "source": [
        "t"
      ],
      "outputs": [
        {
          "output_type": "execute_result",
          "execution_count": 9,
          "data": {
            "text/plain": [
              "array([ 1.06378774,  0.95262649,  0.02149808,  0.01174226, -0.04965458,\n",
              "        0.08916744, -0.12707976,  0.1603201 ,  0.81380447,  1.20260977,\n",
              "        0.79176697])"
            ]
          },
          "metadata": {}
        }
      ],
      "execution_count": 9,
      "metadata": {
        "collapsed": false,
        "outputHidden": false,
        "inputHidden": false
      }
    }
  ],
  "metadata": {
    "kernel_info": {
      "name": "python3"
    },
    "kernelspec": {
      "name": "python3",
      "language": "python",
      "display_name": "Python 3"
    },
    "language_info": {
      "name": "python",
      "version": "3.6.3",
      "mimetype": "text/x-python",
      "codemirror_mode": {
        "name": "ipython",
        "version": 3
      },
      "pygments_lexer": "ipython3",
      "nbconvert_exporter": "python",
      "file_extension": ".py"
    },
    "nteract": {
      "version": "0.8.4"
    }
  },
  "nbformat": 4,
  "nbformat_minor": 4
}