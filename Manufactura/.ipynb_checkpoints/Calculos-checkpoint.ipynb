{
 "cells": [
  {
   "cell_type": "code",
   "execution_count": 1,
   "metadata": {
    "inputHidden": false,
    "outputHidden": false
   },
   "outputs": [],
   "source": [
    "import numpy as np\n",
    "import pylab as plt\n",
    "import math "
   ]
  },
  {
   "cell_type": "markdown",
   "metadata": {},
   "source": [
    "## Caracteristicas del material"
   ]
  },
  {
   "cell_type": "code",
   "execution_count": 2,
   "metadata": {
    "inputHidden": false,
    "outputHidden": false
   },
   "outputs": [
    {
     "name": "stdout",
     "output_type": "stream",
     "text": [
      "Esfuerzo Maximo Permitido 105.00 MPa\n"
     ]
    }
   ],
   "source": [
    "#Caracteristicas del Material\n",
    "Sigma_y = 210e6 #Esfuerzo del Material\n",
    "f_s=2 #Factor de Seguridad\n",
    "Sigma_max=Sigma_y/f_s # Esfuerzo Maximo Permitido\n",
    "print(\"Esfuerzo Maximo Permitido %.2f MPa\" %(Sigma_max/(10**6)))\n",
    "densidad=   7850 # kg/ m^3"
   ]
  },
  {
   "cell_type": "markdown",
   "metadata": {},
   "source": [
    "## Condicion de carga"
   ]
  },
  {
   "cell_type": "code",
   "execution_count": 3,
   "metadata": {
    "inputHidden": false,
    "outputHidden": false
   },
   "outputs": [],
   "source": [
    "#Cargas\n",
    "F=1000*9.81 #Peso para Diseño del gato"
   ]
  },
  {
   "cell_type": "markdown",
   "metadata": {},
   "source": [
    "## Condicion geometrica"
   ]
  },
  {
   "cell_type": "code",
   "execution_count": 4,
   "metadata": {
    "inputHidden": false,
    "outputHidden": false
   },
   "outputs": [
    {
     "name": "stdout",
     "output_type": "stream",
     "text": [
      "Angulo inicial de los brazos frente a la horizontal 25.84 °\n"
     ]
    }
   ],
   "source": [
    "#Largo de los Brazos \n",
    "L1=0.2 # metros\n",
    "L2= 0.2 # metros\n",
    "L3=0.2 # metros\n",
    "L4=0.2 # metros\n",
    "\n",
    "#Largo del tornillo\n",
    "wt = 0.4\n",
    "w1=0.18 #metros\n",
    "w3=w1\n",
    "w2 = wt-w1-w3\n",
    "\n",
    "#Angulo minimo\n",
    "theta=math.acos((w1)/L1)\n",
    "print('Angulo inicial de los brazos frente a la horizontal %.2f °' %(math.degrees(theta)))"
   ]
  },
  {
   "cell_type": "markdown",
   "metadata": {},
   "source": [
    "## Cargas\n",
    "** Se asume un tornillo trapesoidal**"
   ]
  },
  {
   "cell_type": "code",
   "execution_count": 5,
   "metadata": {
    "inputHidden": false,
    "outputHidden": false
   },
   "outputs": [],
   "source": [
    "#  Tension del Tornillo\n",
    "T = F/(2*math.tan(theta))  # N\n",
    "Dc = (2*T*(4/(math.pi*Sigma_max)))**(1/2) #Diametro interno (m)\n",
    "P= 2  #Taking pitch [mm]\n",
    "Dc = round(Dc*1.15*1000)/1000\n",
    "Do= Dc+P/1000 # Diametro exterior\n",
    "D =  (Do+Dc)/2 # Diametro medio\n",
    "alpha = math.atan(2*P/(math.pi)*D) # Angulo de apertura del tornillo\n"
   ]
  },
  {
   "cell_type": "code",
   "execution_count": 6,
   "metadata": {
    "inputHidden": false,
    "outputHidden": false
   },
   "outputs": [],
   "source": [
    "## Friccion\n",
    "miu =  0.2 ##coeficiente de friccion\n",
    "phi =  math.atan(miu) # Angulo de friccion"
   ]
  },
  {
   "cell_type": "markdown",
   "metadata": {},
   "source": [
    "$ \\phi > \\alpha $ se asegura que el gato se auto bloquea"
   ]
  },
  {
   "cell_type": "code",
   "execution_count": 7,
   "metadata": {
    "inputHidden": false,
    "outputHidden": false
   },
   "outputs": [
    {
     "name": "stdout",
     "output_type": "stream",
     "text": [
      "Fuerza requerido para soportar la carga 4618.57 N\n",
      "Torque requerido para soportar la carga 43.88 Nm\n",
      "Esfuerzo cortante para soportar la carga 38.32 MPa\n",
      "Esfuerzo normal para soportar la carga 79.60 MPa\n",
      "Esfuerzo principal normal para soportar la carga 107.89 MPa\n",
      "Esfuerzo principal cortante para soportar la carga 68.09 MPa\n"
     ]
    }
   ],
   "source": [
    "effort =2*T*math.tan(miu+alpha)\n",
    "print(\"Fuerza requerido para soportar la carga %.2f N\" % effort)\n",
    "Tor = effort* D/2 \n",
    "print(\"Torque requerido para soportar la carga %.2f Nm\" % Tor)\n",
    "tau = 16*Tor/(math.pi * Dc**3)\n",
    "##Esfuerzo cortante del tornillo\n",
    "tau2=tau/(10**6)\n",
    "print(\"Esfuerzo cortante para soportar la carga %.2f MPa\" % tau2)\n",
    "##Esfuerzo Normal del tornillo\n",
    "sigma_t = 2*T/(math.pi/4*Dc**2)\n",
    "sigma_t2 =sigma_t/(10**6)\n",
    "print(\"Esfuerzo normal para soportar la carga %.2f MPa\" % sigma_t2)\n",
    "## Esfuerzo normal principal\n",
    "sigma_tmax =sigma_t/2+((sigma_t**2)/2+tau**2)**(1/2)\n",
    "sigma_tmax2 = sigma_tmax/(10**6)\n",
    "print(\"Esfuerzo principal normal para soportar la carga %.2f MPa\" % sigma_tmax2)\n",
    "tau_max=((sigma_t**2)/2+tau**2)**(1/2)\n",
    "tau_max2 = tau_max /(10**6)\n",
    "print(\"Esfuerzo principal cortante para soportar la carga %.2f MPa\" % tau_max2)"
   ]
  },
  {
   "cell_type": "markdown",
   "metadata": {},
   "source": [
    "### Tuerca\n",
    "Material: Acero 1035\n"
   ]
  },
  {
   "cell_type": "code",
   "execution_count": 8,
   "metadata": {
    "inputHidden": false,
    "outputHidden": false
   },
   "outputs": [
    {
     "name": "stdout",
     "output_type": "stream",
     "text": [
      " Numero de dientes 7 , Grosor de tuerca 0.01 [m] , Ancho de Tuerca 0.03 [m]\n"
     ]
    }
   ],
   "source": [
    "Pb= 1800*6900# Bearing pressure\n",
    "n = round(2*T/(Pb*(math.pi*(Do**2-Dc**2)))) #numero de hilos\n",
    "Nt = n * P/1000 # grosor de tuerca [ m]\n",
    "b = 1.5*Do  #Ancho tuerca [m]\n",
    "print (\" Numero de dientes %.0f , Grosor de tuerca %.2f [m] , Ancho de Tuerca %.2f [m]\" %(n,Nt,b) )"
   ]
  },
  {
   "cell_type": "code",
   "execution_count": 9,
   "metadata": {
    "inputHidden": false,
    "outputHidden": false
   },
   "outputs": [
    {
     "name": "stdout",
     "output_type": "stream",
     "text": [
      "Dimetro de los pines de la tuerca es de 0.008 m, y el diametro de la cabeza es de 0.012 m \n"
     ]
    }
   ],
   "source": [
    "# Pins in Nut \n",
    "# Material Acero\n",
    "tau_s = 50*10**6\n",
    "d1 = ((F/2)/(2*tau_s*math.pi/4) )**(1/2)\n",
    "d1=round(d1*1000)/1000\n",
    "h = 1.5*d1\n",
    "print(\"Dimetro de los pines de la tuerca es de %.3f m, y el diametro de la cabeza es de %.3f m \" %(d1,h))"
   ]
  },
  {
   "cell_type": "markdown",
   "metadata": {},
   "source": [
    "## Brazos superiores\n",
    "Material Acero"
   ]
  },
  {
   "cell_type": "code",
   "execution_count": 10,
   "metadata": {
    "inputHidden": false,
    "outputHidden": false
   },
   "outputs": [
    {
     "ename": "NameError",
     "evalue": "name 'P_Rc' is not defined",
     "output_type": "error",
     "traceback": [
      "\u001b[1;31m---------------------------------------------------------------------------\u001b[0m",
      "\u001b[1;31mNameError\u001b[0m                                 Traceback (most recent call last)",
      "\u001b[1;32m<ipython-input-10-73e851d5e1e7>\u001b[0m in \u001b[0;36m<module>\u001b[1;34m()\u001b[0m\n\u001b[0;32m      8\u001b[0m \u001b[1;33m\u001b[0m\u001b[0m\n\u001b[0;32m      9\u001b[0m \u001b[0ma\u001b[0m  \u001b[1;33m=\u001b[0m \u001b[1;36m1\u001b[0m\u001b[1;33m/\u001b[0m\u001b[1;36m7500\u001b[0m \u001b[1;31m## numero de rankine\u001b[0m\u001b[1;33m\u001b[0m\u001b[0m\n\u001b[1;32m---> 10\u001b[1;33m \u001b[0mP_Rc\u001b[0m\u001b[1;33m/\u001b[0m\u001b[0mF\u001b[0m\u001b[1;33m\u001b[0m\u001b[0m\n\u001b[0m",
      "\u001b[1;31mNameError\u001b[0m: name 'P_Rc' is not defined"
     ]
    }
   ],
   "source": [
    "\n",
    "sigma_c = 1.25*Sigma_max ## Esfuerzo de Compresion\n",
    "load = F/2\n",
    "t=8 #mm\n",
    "b=f_s=2 #Factor de Seguridad\n",
    "Sigma_max=Sigma_y/f_s # Esfuerzo Maximo Permitido\n",
    "#b = 3*t/1000 #m\n",
    "A=(t/1000)*(b) #Area transversal\n",
    "I=(t*b**3)/(1000*12) # Momento de inercia\n",
    "k= (I/A)**(1/2) ## radio de giro\n",
    "\n",
    "a  = 1/7500 ## numero de rankine\n",
    "P_Rc/F"
   ]
  },
  {
   "cell_type": "code",
   "execution_count": null,
   "metadata": {
    "inputHidden": false,
    "outputHidden": false
   },
   "outputs": [],
   "source": [
    "sigma_c = 1.25*Sigma_max\n",
    "P_cr = (sigma_c*A)/(1+a*(L1/k)**2)\n",
    "P_cr/F"
   ]
  },
  {
   "cell_type": "markdown",
   "metadata": {},
   "source": [
    "## Plato Superior"
   ]
  },
  {
   "cell_type": "code",
   "execution_count": null,
   "metadata": {
    "inputHidden": false,
    "outputHidden": false
   },
   "outputs": [],
   "source": [
    "l=50/1000 \n",
    "b=36/1000\n",
    "h=40/1000\n",
    "M = F*l/4 #Nm\n",
    "Z=(b*h**2)/6 ## mm3\n",
    "sigma_b = M/Z"
   ]
  }
 ],
 "metadata": {
  "kernel_info": {
   "name": "python3"
  },
  "kernelspec": {
   "display_name": "Python 3",
   "language": "python",
   "name": "python3"
  },
  "language_info": {
   "codemirror_mode": {
    "name": "ipython",
    "version": 3
   },
   "file_extension": ".py",
   "mimetype": "text/x-python",
   "name": "python",
   "nbconvert_exporter": "python",
   "pygments_lexer": "ipython3",
   "version": "3.6.4"
  },
  "nteract": {
   "version": "0.8.4"
  }
 },
 "nbformat": 4,
 "nbformat_minor": 4
}
