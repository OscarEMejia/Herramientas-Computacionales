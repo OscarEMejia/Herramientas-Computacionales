{
  "cells": [
    {
      "cell_type": "code",
      "source": [
        "%pylab inline\n",
        "import numpy as np\n",
        "import matplotlib.pyplot as plt\n",
        "import scipy.io.wavfile as waves"
      ],
      "outputs": [
        {
          "output_type": "stream",
          "name": "stdout",
          "text": [
            "Populating the interactive namespace from numpy and matplotlib\n"
          ]
        }
      ],
      "execution_count": 6,
      "metadata": {
        "collapsed": false,
        "outputHidden": false,
        "inputHidden": false
      }
    },
    {
      "cell_type": "code",
      "source": [
        "# archivo = input('archivo de sonido:' )\n",
        "archivo = 'Amigo.wav'\n",
        "muestreo, sonido = waves.read(archivo)"
      ],
      "outputs": [],
      "execution_count": 2,
      "metadata": {
        "collapsed": false,
        "outputHidden": false,
        "inputHidden": false
      }
    },
    {
      "cell_type": "code",
      "source": [
        "# canales: monofónico o estéreo\n",
        "tamano = np.shape(sonido)\n",
        "muestras = tamano[0]\n",
        "m = len(tamano)\n",
        "canales = 1  # monofónico\n",
        "if (m>1):  # estéreo\n",
        "    canales = tamano[1]\n",
        "# experimento con un canal\n",
        "if (canales>1):\n",
        "    canal = 0\n",
        "    uncanal = sonido[:,canal] \n",
        "else:\n",
        "    uncanal = sonido\n",
        "# rango de observación en segundos\n",
        "inicia = 0.000\n",
        "termina = 2*60+54\n",
        "# observación en número de muestra\n",
        "a = int(inicia*muestreo)\n",
        "b = int(termina*muestreo)\n",
        "parte = uncanal[a:b]"
      ],
      "outputs": [],
      "execution_count": 3,
      "metadata": {
        "collapsed": false,
        "outputHidden": false,
        "inputHidden": false
      }
    },
    {
      "cell_type": "code",
      "source": [
        "y=sonido[:,0]\n",
        "n = len(y) # longitud de la señal\n",
        "\n",
        "k = arange(n)\n",
        "Fs= muestreo\n",
        "T = n/Fs\n",
        "\n",
        "frq = k/T # 2 lados del rango de frecuancia\n",
        "for i in range(0,n):\n",
        "    if i>n/2:\n",
        "        frq[i]=0\n",
        "#frq = frq[arange(n/2)] # Un lado del rango de frecuencia\n",
        "Y = fft.fft(y)/n # fft calcula la normalizacion\n",
        "for i in range(0,n):\n",
        "    if i>n/2:\n",
        "       Y[i]=0\n",
        "    \n",
        "#Y = Y[arange(n/2)]\n",
        "plot(frq[0:n/2],abs(Y[0:n/2]),'r') # grafica el espectro de frecuencia\n",
        "\n",
        "xlabel('Frecuencia (Hz)')\n",
        "\nylabel('|Y(f)|')"
      ],
      "outputs": [
        {
          "output_type": "execute_result",
          "execution_count": 18,
          "data": {
            "text/plain": [
              "Text(0,0.5,'|Y(f)|')"
            ]
          },
          "metadata": {}
        },
        {
          "output_type": "display_data",
          "data": {
            "text/plain": [
              "<matplotlib.figure.Figure at 0xec8ad71a90>"
            ],
            "image/png": "[encoded data removed]"
          },
          "metadata": {}
        }
      ],
      "execution_count": 18,
      "metadata": {
        "collapsed": false,
        "outputHidden": false,
        "inputHidden": false
      }
    },
    {
      "cell_type": "code",
      "source": [
        "from scipy.signal import butter, lfilter\n",
        "def butter_bandpass(lowcut, highcut, fs, order=5):\n",
        "    nyq = 0.5 * fs\n",
        "    low = lowcut / nyq\n",
        "    high = highcut / nyq\n",
        "    b, a = butter(order, [low, high], btype='band')\n",
        "    return b, a"
      ],
      "outputs": [],
      "execution_count": 23,
      "metadata": {
        "collapsed": false,
        "outputHidden": false,
        "inputHidden": false
      }
    },
    {
      "cell_type": "code",
      "source": [
        "b, a = butter_bandpass(510, 6210, Fs, order=3)\n",
        "z = lfilter(b, a, sonido[:,0])"
      ],
      "outputs": [],
      "execution_count": 33,
      "metadata": {
        "collapsed": false,
        "outputHidden": false,
        "inputHidden": false
      }
    },
    {
      "cell_type": "code",
      "source": [
        "# Salida # Archivo de audio.wav\n",
        "print('archivo de parte[] grabado...')\n",
        "waves.write('parte01.wav', muestreo, z)"
      ],
      "outputs": [
        {
          "output_type": "stream",
          "name": "stdout",
          "text": [
            "archivo de parte[] grabado...\n"
          ]
        }
      ],
      "execution_count": 35,
      "metadata": {
        "collapsed": false,
        "outputHidden": false,
        "inputHidden": false
      }
    },
    {
      "cell_type": "code",
      "source": [],
      "outputs": [
        {
          "output_type": "error",
          "ename": "NameError",
          "evalue": "name 't' is not defined",
          "traceback": [
            "\u001b[1;31m---------------------------------------------------------------------------\u001b[0m",
            "\u001b[1;31mNameError\u001b[0m                                 Traceback (most recent call last)",
            "\u001b[1;32m<ipython-input-32-34fc7a11cb38>\u001b[0m in \u001b[0;36m<module>\u001b[1;34m()\u001b[0m\n\u001b[1;32m----> 1\u001b[1;33m \u001b[0mt\u001b[0m\u001b[1;33m\u001b[0m\u001b[0m\n\u001b[0m",
            "\u001b[1;31mNameError\u001b[0m: name 't' is not defined"
          ]
        }
      ],
      "execution_count": 32,
      "metadata": {
        "collapsed": false,
        "outputHidden": false,
        "inputHidden": false
      }
    },
    {
      "cell_type": "code",
      "source": [],
      "outputs": [],
      "execution_count": null,
      "metadata": {
        "collapsed": false,
        "outputHidden": false,
        "inputHidden": false
      }
    }
  ],
  "metadata": {
    "kernel_info": {
      "name": "python3"
    },
    "kernelspec": {
      "name": "python3",
      "language": "python",
      "display_name": "Python 3"
    },
    "language_info": {
      "name": "python",
      "version": "3.6.4",
      "mimetype": "text/x-python",
      "codemirror_mode": {
        "name": "ipython",
        "version": 3
      },
      "pygments_lexer": "ipython3",
      "nbconvert_exporter": "python",
      "file_extension": ".py"
    },
    "nteract": {
      "version": "0.8.4"
    }
  },
  "nbformat": 4,
  "nbformat_minor": 4
}