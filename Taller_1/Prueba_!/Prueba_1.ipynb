{
  "cells": [
    {
      "cell_type": "markdown",
      "source": [
        "Este cuaderno es la primera version del Taller 1 del curso\n",
        "\n"
      ],
      "metadata": {
        "collapsed": false,
        "outputHidden": false,
        "inputHidden": false
      }
    },
    {
      "cell_type": "code",
      "source": [
        "import os\n",
        "import pandas as pd\n",
        "%pylab inline"
      ],
      "outputs": [
        {
          "output_type": "stream",
          "name": "stdout",
          "text": [
            "Populating the interactive namespace from numpy and matplotlib\n"
          ]
        }
      ],
      "execution_count": 1,
      "metadata": {
        "collapsed": false,
        "outputHidden": false,
        "inputHidden": false
      }
    },
    {
      "cell_type": "code",
      "source": [
        "def ghi_mensual(serie_horaria):\n",
        "    agnos = sorted(serie_horaria['AÑO'].unique())\n",
        "    ghi_df = pd.DataFrame(columns=[\"AÑO\", \"MES\", \"DIAS\", \"GHImes\"])\n",
        "    for agno in agnos:\n",
        "        for mes in range(1,13):\n",
        "            nombre_energia = list(serie_horaria)[-1]\n",
        "            dias = sorted(serie_horaria[(serie_horaria['AÑO'] == agno) &\n",
        "                        (serie_horaria['MES'] == mes)][\"DIA\"].unique())\n",
        "            ghi_mes = serie_horaria.loc[((serie_horaria[\"AÑO\"] == agno)\n",
        "                            & (serie_horaria[\"MES\"] == mes)),\n",
        "                                        nombre_energia].sum()/1000\n",
        "            ghi_dict = {\"AÑO\":agno, \"MES\":mes, \"DIAS\":dias[-1],\n",
        "                        \"GHImes\":ghi_mes}\n",
        "            ghi_df = ghi_df.append(ghi_dict, ignore_index=True)\n",
        "    return ghi_df\n",
        "\n",
        "def ghi_dia(serie_ghi_mensual):\n",
        "    agnos = sorted(serie_ghi_mensual['AÑO'].unique())\n",
        "    ghi_df = pd.DataFrame(columns=[\"AÑO\", \"MES\", \"GHIdiario\"])\n",
        "    for agno in agnos:\n",
        "        for mes in range(1,13):\n",
        "            dias = serie_ghi_mensual.loc[((serie_ghi_mensual[\"AÑO\"] == agno)\n",
        "                            & (serie_ghi_mensual[\"MES\"] == mes))\n",
        "                                         ,\"DIAS\"].item()\n",
        "            ghi_diario = serie_ghi_mensual.loc[(\n",
        "                (serie_ghi_mensual[\"AÑO\"] == agno)\n",
        "                            & (serie_ghi_mensual[\"MES\"] == mes)),\n",
        "                \"GHImes\"].item()/dias\n",
        "            ghi_dict = {\"AÑO\":agno, \"MES\":mes, \"GHIdiario\":ghi_diario}\n",
        "            ghi_df = ghi_df.append(ghi_dict, ignore_index=True)\n",
        "    return ghi_df\n",
        "                                     "
      ],
      "outputs": [],
      "execution_count": 2,
      "metadata": {
        "collapsed": false,
        "outputHidden": false,
        "inputHidden": false
      }
    },
    {
      "cell_type": "code",
      "source": [
        "def percentil(lista):\n",
        "    percentil = 0.01\n",
        "    enficc = lista.quantile(q=percentil, numeric_only=True)[\"GHIdiario\"]\n",
        "    return enficc"
      ],
      "outputs": [],
      "execution_count": 3,
      "metadata": {
        "collapsed": false,
        "outputHidden": false,
        "inputHidden": false
      }
    },
    {
      "cell_type": "code",
      "source": [
        "def grafica(serieObjetivo,serieReferencia,serieCorregida):\n",
        "    pylab.xlabel(\"Datos\")\n",
        "    pylab.ylabel(\"Energía/Energía Base IDEAM\")\n",
        "    numdatos = range(len(serieObjetivo))\n",
        "    pylab.plot(numdatos,serieObjetivo/serieObjetivo[0], label='Serie Objetivo')\n",
        "    pylab.plot(numdatos,serieReferencia/serieReferencia[0], label='serie Referencia')\n",
        "    pylab.plot(numdatos,serieCorregida/serieCorregida[0], label='Serie Corregida')\n",
        "    pylab.legend(loc='upper left')"
      ],
      "outputs": [],
      "execution_count": 4,
      "metadata": {
        "collapsed": false,
        "outputHidden": false,
        "inputHidden": false
      }
    },
    {
      "cell_type": "code",
      "source": [
        "def MCP(serieObjetivo,serieReferencia):\n",
        "    serieCorregida=[]\n",
        "    mu_y=np.mean(serieObjetivo)\n",
        "    mu_x=np.mean(serieReferencia)\n",
        "    sigma_y=np.std(serieObjetivo)\n",
        "    sigma_x=np.std(serieReferencia)\n",
        "    nombre_energia = list(serieReferencia)[-1]\n",
        "    for i in range(serieReferencia.size):  \n",
        "        a=(mu_y-(sigma_y/sigma_x)*(mu_x))+((sigma_y/sigma_x)*serieReferencia(i,-1))\n",
        "        serieCorregida.append(a)     \n",
        "    \n",
        "    return serieCorregida    "
      ],
      "outputs": [],
      "execution_count": 11,
      "metadata": {
        "collapsed": false,
        "outputHidden": false,
        "inputHidden": false
      }
    },
    {
      "cell_type": "code",
      "source": [
        "def PorCiudad(city):\n",
        "    base_dir = os.path.join( '.','data')\n",
        "    output_dir = os.path.join( '.','output')\n",
        "    ciudad = city\n",
        "    objetivo = 'IDEAM'\n",
        "    refer = 'NREL'\n",
        "    #Seria Objetivo\n",
        "    serie_objetivo = os.path.join(base_dir,ciudad,objetivo+'.csv')\n",
        "    serie_objetivo = pd.read_csv(serie_objetivo, sep = ';', encoding='latin-1')\n",
        "    #Serie de Referencia\n",
        "    serie_referencia = os.path.join(base_dir,ciudad,refer+'.csv')\n",
        "    serie_referencia = pd.read_csv(serie_referencia, sep = ';', encoding='latin-1')    \n",
        "    #Objetivo\n",
        "    ghi_mensual_objetivo = ghi_mensual(serie_objetivo )\n",
        "    ghi_diario_objetivo = ghi_dia(ghi_mensual_objetivo)    \n",
        "    datos_objetivo = sorted(ghi_diario_objetivo[\"GHIdiario\"])\n",
        "    #Referencia\n",
        "    ghi_mensual_referencia = ghi_mensual(serie_referencia)\n",
        "    ghi_diario_referencia = ghi_dia(ghi_mensual_referencia)    \n",
        "    datos_referencia = sorted(ghi_diario_objetivo[\"GHIdiario\"])\n",
        "    #ENFICC\n",
        "    ENFICC_objetivo=percentil(ghi_diario_objetivo)\n",
        "    ENFICC_referencia=percentil(ghi_diario_referencia)\n",
        "    #CORREGIDA\n",
        "    correg=MCP(ghi_diario_objetivo,ghi_diario_referencia)\n",
        "    #GRAFICA\n",
        "    grafica(ghi_diario_objetivo,ghi_diario_referencia,correg)    "
      ],
      "outputs": [],
      "execution_count": 6,
      "metadata": {
        "collapsed": false,
        "outputHidden": false,
        "inputHidden": false
      }
    },
    {
      "cell_type": "code",
      "source": [
        "PorCiudad('Valledupar')"
      ],
      "outputs": [
        {
          "output_type": "error",
          "ename": "TypeError",
          "evalue": "'DataFrame' object is not callable",
          "traceback": [
            "\u001b[1;31m---------------------------------------------------------------------------\u001b[0m",
            "\u001b[1;31mTypeError\u001b[0m                                 Traceback (most recent call last)",
            "\u001b[1;32m<ipython-input-12-810a4d62de55>\u001b[0m in \u001b[0;36m<module>\u001b[1;34m()\u001b[0m\n\u001b[1;32m----> 1\u001b[1;33m \u001b[0mPorCiudad\u001b[0m\u001b[1;33m(\u001b[0m\u001b[1;34m'Valledupar'\u001b[0m\u001b[1;33m)\u001b[0m\u001b[1;33m\u001b[0m\u001b[0m\n\u001b[0m",
            "\u001b[1;32m<ipython-input-6-7d8e7924e22f>\u001b[0m in \u001b[0;36mPorCiudad\u001b[1;34m(city)\u001b[0m\n\u001b[0;32m     23\u001b[0m     \u001b[0mENFICC_referencia\u001b[0m\u001b[1;33m=\u001b[0m\u001b[0mpercentil\u001b[0m\u001b[1;33m(\u001b[0m\u001b[0mghi_diario_referencia\u001b[0m\u001b[1;33m)\u001b[0m\u001b[1;33m\u001b[0m\u001b[0m\n\u001b[0;32m     24\u001b[0m     \u001b[1;31m#CORREGIDA\u001b[0m\u001b[1;33m\u001b[0m\u001b[1;33m\u001b[0m\u001b[0m\n\u001b[1;32m---> 25\u001b[1;33m     \u001b[0mcorreg\u001b[0m\u001b[1;33m=\u001b[0m\u001b[0mMCP\u001b[0m\u001b[1;33m(\u001b[0m\u001b[0mghi_diario_objetivo\u001b[0m\u001b[1;33m,\u001b[0m\u001b[0mghi_diario_referencia\u001b[0m\u001b[1;33m)\u001b[0m\u001b[1;33m\u001b[0m\u001b[0m\n\u001b[0m\u001b[0;32m     26\u001b[0m     \u001b[1;31m#GRAFICA\u001b[0m\u001b[1;33m\u001b[0m\u001b[1;33m\u001b[0m\u001b[0m\n\u001b[0;32m     27\u001b[0m     \u001b[0mgrafica\u001b[0m\u001b[1;33m(\u001b[0m\u001b[0mghi_diario_objetivo\u001b[0m\u001b[1;33m,\u001b[0m\u001b[0mghi_diario_referencia\u001b[0m\u001b[1;33m,\u001b[0m\u001b[0mcorreg\u001b[0m\u001b[1;33m)\u001b[0m\u001b[1;33m\u001b[0m\u001b[0m\n",
            "\u001b[1;32m<ipython-input-11-8b4d8a8368dd>\u001b[0m in \u001b[0;36mMCP\u001b[1;34m(serieObjetivo, serieReferencia)\u001b[0m\n\u001b[0;32m      7\u001b[0m     \u001b[0mnombre_energia\u001b[0m \u001b[1;33m=\u001b[0m \u001b[0mlist\u001b[0m\u001b[1;33m(\u001b[0m\u001b[0mserieReferencia\u001b[0m\u001b[1;33m)\u001b[0m\u001b[1;33m[\u001b[0m\u001b[1;33m-\u001b[0m\u001b[1;36m1\u001b[0m\u001b[1;33m]\u001b[0m\u001b[1;33m\u001b[0m\u001b[0m\n\u001b[0;32m      8\u001b[0m     \u001b[1;32mfor\u001b[0m \u001b[0mi\u001b[0m \u001b[1;32min\u001b[0m \u001b[0mrange\u001b[0m\u001b[1;33m(\u001b[0m\u001b[0mserieReferencia\u001b[0m\u001b[1;33m.\u001b[0m\u001b[0msize\u001b[0m\u001b[1;33m)\u001b[0m\u001b[1;33m:\u001b[0m\u001b[1;33m\u001b[0m\u001b[0m\n\u001b[1;32m----> 9\u001b[1;33m         \u001b[0ma\u001b[0m\u001b[1;33m=\u001b[0m\u001b[1;33m(\u001b[0m\u001b[0mmu_y\u001b[0m\u001b[1;33m-\u001b[0m\u001b[1;33m(\u001b[0m\u001b[0msigma_y\u001b[0m\u001b[1;33m/\u001b[0m\u001b[0msigma_x\u001b[0m\u001b[1;33m)\u001b[0m\u001b[1;33m*\u001b[0m\u001b[1;33m(\u001b[0m\u001b[0mmu_x\u001b[0m\u001b[1;33m)\u001b[0m\u001b[1;33m)\u001b[0m\u001b[1;33m+\u001b[0m\u001b[1;33m(\u001b[0m\u001b[1;33m(\u001b[0m\u001b[0msigma_y\u001b[0m\u001b[1;33m/\u001b[0m\u001b[0msigma_x\u001b[0m\u001b[1;33m)\u001b[0m\u001b[1;33m*\u001b[0m\u001b[0mserieReferencia\u001b[0m\u001b[1;33m(\u001b[0m\u001b[0mi\u001b[0m\u001b[1;33m,\u001b[0m\u001b[1;33m-\u001b[0m\u001b[1;36m1\u001b[0m\u001b[1;33m)\u001b[0m\u001b[1;33m)\u001b[0m\u001b[1;33m\u001b[0m\u001b[0m\n\u001b[0m\u001b[0;32m     10\u001b[0m         \u001b[0mserieCorregida\u001b[0m\u001b[1;33m.\u001b[0m\u001b[0mappend\u001b[0m\u001b[1;33m(\u001b[0m\u001b[0ma\u001b[0m\u001b[1;33m)\u001b[0m\u001b[1;33m\u001b[0m\u001b[0m\n\u001b[0;32m     11\u001b[0m \u001b[1;33m\u001b[0m\u001b[0m\n",
            "\u001b[1;31mTypeError\u001b[0m: 'DataFrame' object is not callable"
          ]
        }
      ],
      "execution_count": 12,
      "metadata": {
        "collapsed": false,
        "outputHidden": false,
        "inputHidden": false
      }
    },
    {
      "cell_type": "markdown",
      "source": [],
      "metadata": {}
    }
  ],
  "metadata": {
    "kernelspec": {
      "name": "python3",
      "language": "python",
      "display_name": "Python 3"
    },
    "kernel_info": {
      "name": "python3"
    },
    "language_info": {
      "name": "python",
      "version": "3.6.3",
      "mimetype": "text/x-python",
      "codemirror_mode": {
        "name": "ipython",
        "version": 3
      },
      "pygments_lexer": "ipython3",
      "nbconvert_exporter": "python",
      "file_extension": ".py"
    },
    "nteract": {
      "version": "0.7.0"
    }
  },
  "nbformat": 4,
  "nbformat_minor": 4
}