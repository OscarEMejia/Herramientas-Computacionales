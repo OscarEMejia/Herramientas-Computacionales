{
 "cells": [
  {
   "cell_type": "markdown",
   "metadata": {
    "inputHidden": false,
    "outputHidden": false
   },
   "source": [
    "# Taller 2.\n",
    "## Oscar Eduardo Mejia \n",
    "### 201516790\n",
    "***\n"
   ]
  },
  {
   "cell_type": "markdown",
   "metadata": {},
   "source": [
    "# Marco Teorico\n",
    "***"
   ]
  },
  {
   "cell_type": "markdown",
   "metadata": {},
   "source": [
    "Para este taller, se modelara un *KART ELECTRICO* que acelera desde el reposo y cuando se llegue a la velocidad maxima se modelara en el frenado del mismo.\n",
    "\n",
    "**Formulas**  \n",
    "1. Aceleración: \n",
    ">$(M+M_r)a_k = \\frac{T_eN_e\\eta_t}{r}-{R_x}-D_A$ \n",
    "  \n",
    ">donde:  \n",
    ">* $T_e$ : Torque dado por el motor\n",
    ">* $N_e$ : Relación del sistema de trasmision\n",
    ">* $\\eta_T$: Eficiencia del sistema de trasmision\n",
    ">* $R_x$: Resistencia a la rodadura  \n",
    ">* $D_A$: Fuerza de arrastre aerodinamico\n",
    ">* $M_r$: Masa equivalente de los componentes rotativos\n",
    "\n",
    "2. Frenado:\n",
    ">$(M+M_r)a_k = F_b-{R_x}-D_A$ \n",
    "  \n",
    ">donde:  \n",
    ">* $F_b$: Fuerza total del frenado aplicada en llantas delanteras y llantas traseras\n",
    ">>$F_{bd}= \\mu_c\\dfrac{w}{l}*(l-a+h*\\mu_c) $  \n",
    ">>$F_{bt}= \\mu_c\\dfrac{w}{l}*(a+h*\\mu_c) $\n",
    "\n",
    ">>donde:  \n",
    ">>* $\\mu_c$: Coeficiente de adherencia\n",
    ">>* $w$: Peso del kart junto al conductor\n",
    ">>* $l$: Distancia de eje de las llantas traseras y delanteras \n",
    ">>* $a$: Distancia del centro de gravedad al eje de la llanta trasera\n",
    ">>* $h$: Altura del centro de gravedad  \n",
    "\n",
    "3. Torque:\n",
    ">$T=\\cfrac{-3.6134*10^{-8}*(\\omega_0^{3})+2.9953*10^{-5}*(\\omega_0^{2})+(1.6696*\\omega_0)+5.4706*10^{-1}}{\\omega_1}$  \n",
    ">>donde:  \n",
    ">>* $\\omega_0$: Velocidad Angular en RPM\n",
    ">>* $\\omega_1$: Velocidad Angular en rad/s  \n",
    "\n",
    "** Calculo de posición y velocidad **  \n",
    "\n",
    "Para el calculo de la velocidad y la posicion se realizara una integración numerica por medio de la función **odeint**.\n"
   ]
  },
  {
   "cell_type": "code",
   "execution_count": 33,
   "metadata": {
    "inputHidden": false,
    "outputHidden": false
   },
   "outputs": [
    {
     "name": "stdout",
     "output_type": "stream",
     "text": [
      "Populating the interactive namespace from numpy and matplotlib\n"
     ]
    }
   ],
   "source": [
    "%pylab inline\n",
    "import matplotlib.pyplot as plt\n",
    "import matplotlib.pylab as pylab\n",
    "import numpy as np\n",
    "import string\n",
    "import matplotlib.cm as cm\n",
    "import os\n",
    "import pandas as pd\n",
    "from scipy import ndimage\n",
    "from scipy.integrate import odeint"
   ]
  },
  {
   "cell_type": "markdown",
   "metadata": {},
   "source": [
    "Variables a Modificar"
   ]
  },
  {
   "cell_type": "code",
   "execution_count": 34,
   "metadata": {
    "inputHidden": false,
    "outputHidden": false
   },
   "outputs": [],
   "source": [
    "masa=152.0 # masa del Kart (kg)\n",
    "ng=3.4 # Relación de Transmisión\n",
    "a=0.2231 # Distancia del centro de gravedad al eje de la llanta trasera (m)\n",
    "l=1.0063 # Distancia de eje de las llantas traseras y delanteras (m)\n",
    "h=0.07478 # Altura del centro de gravedad del kart con respecto al piso (m)\n",
    "mu_c=1 #coeficiente de adherencia de las ruedas\n",
    "\n",
    "# Variables de tiempo\n",
    "t_in=0 #Tiempo incial de analisis\n",
    "t_acel=70 #Tiempo final para el analisis de la aceleracion\n",
    "t_fren=5 #Tiempo final para el analisis del freno\n",
    "deltat=0.001 # Paso del tiempo"
   ]
  },
  {
   "cell_type": "markdown",
   "metadata": {},
   "source": [
    "## No modificiar de aqui hacia abajo"
   ]
  },
  {
   "cell_type": "markdown",
   "metadata": {
    "inputHidden": false,
    "outputHidden": false
   },
   "source": [
    "A continuacion se definen parametros geometricos y fisicos del carro y algunas constantes relacionadas a los neumaticos y la carretera.  \n",
    "Adicionalmente las funciones para el calculo de fuerza.\n",
    "***\n",
    "__Nota:__ Las graficas se encuentran al final del documento."
   ]
  },
  {
   "cell_type": "markdown",
   "metadata": {
    "inputHidden": false,
    "outputHidden": false
   },
   "source": [
    "### Datos geometricos y caracteristicas fisicas del kart y sus datos"
   ]
  },
  {
   "cell_type": "code",
   "execution_count": 35,
   "metadata": {
    "inputHidden": false,
    "outputHidden": false
   },
   "outputs": [],
   "source": [
    "# Datos Llantas tractivas \n",
    "rll=0.139 # Radio geométrico de las llantas en traseras (m)\n",
    "refc=0.98*rll # Radio efectivo llantas traseras (m)\n",
    "rin=0.0631 #radio interno del neumático (m)\n",
    "\n",
    "# Datos Transmisión\n",
    "#dp=11.0 # Dientes del piñon\n",
    "#dpl=39.0 # Dientes del plato\n",
    "#ng=dpl/dp # Relación de Transmisión\n",
    "ng=1.9\n",
    "etaf=0.95 # Eficiencia de transmisión\n",
    "\n",
    "# Datos eje llantas\n",
    "reje=0.02 # Radio eje de las llantas (m)\n",
    "meje=3.832 # Masa del eje (kg)\n",
    "\n",
    "# Datos Kart general\n",
    "#masa=152.0 # masa del Kart (kg)\n",
    "g=9.81 # Gravedad (m/s)\n",
    "w=masa*g # peso del Kart (N)\n",
    "\n",
    "# Datos Fuerzas de la fórmula de aceleración\n",
    "rho=1.1955 # densidad del aire (kg/m^3)\n",
    "dll=0.975 # Distancia entre ejes de llantas delanteras (m)\n",
    "alj=0.88 # Altura con el piloto sentado en el kart (estatura 1.68 m) (m)\n",
    "af=(dll*alj)/2 # Area Frontal Kart (m^2)\n",
    "cd=0.89 # Coeficiente de Arrastre Kart\n",
    "vw=0.0 # velocidad del viento (m/s)\n",
    "theta=0.0 # Angulo carretera\n",
    "\n",
    "# Inercias\n",
    "ii=5.2E-3 # Inercia motor de combustión (kg m^2) \n",
    "\n",
    "mllt=1.43 # Masa llantas traseras (kg)\n",
    "mlld=1.20 # Masa llantas delanteras (kg)\n",
    "rlld=0.129 # Radio llantas delanteras (m)\n",
    "rind=0.0631 # Radio rin llantas delanteras (m)\n",
    "mbt=0.7*mllt # El porcentaje de la masa total que pesa la parte \"banda\" de la llanta trasera\n",
    "mdt=0.3*mllt # El porcentaje de la masa total que pesa la parte \"disco\" de la llanta trasera\n",
    "mbd=0.7*mlld # El porcentaje de la masa total que pesa la parte \"banda\" de la llanta delantera\n",
    "mdd=0.3*mlld # El porcentaje de la masa total que pesa la parte \"disco\" de la llanta delantera\n",
    "illd=(mbd*rlld)+(mdd*(rlld**2-rind**2))/2 # Inercia 1 llanta delantera (kg-m^2)\n",
    "illt=(mbt*rll)+(mdt*(rll**2-rin**2))/2 # Inercia 1 llanta trasera (kg-m^2)\n",
    "illTotal=2*illd+illt*2\n",
    "#paso=7.62 #(mm)\n",
    "#rpim= paso*(0.6+(1/tan(180/dp))) # Radio Piñon (mm)\n",
    "#rplam=paso*(0.6+(1/tan(180/dpl))) # Radio Plato (mm)\n",
    "#rpi= rpim/1000 #Radio Piñon (m)\n",
    "#rpla= rplam/1000 #Radio Plato (m)\n",
    "rpi=0.01525#(m)\n",
    "rpla=0.04096 #(m)\n",
    "rhoac=7850.0 # Densidad del Acero (kg/m^3)\n",
    "bpi=0.01 # Ancho piñon (m)\n",
    "bpla=0.02 # Ancho plato (m)\n",
    "vpi= bpi*np.pi*rpi**2 # Volumen del piñon (m^3)\n",
    "vpla=bpla*np.pi*rpla**2 # Volumen del plato (m^3)\n",
    "mpi=rhoac*vpi # Masa del piñon (kg)\n",
    "mpla=rhoac*vpla # Masa del plato (kg)\n",
    "ig=((mpi*(rpi**2))/2.0)+((mpla*(rpla**2))/2.0) # Inercia de la transmisión (kg-m^2)\n",
    "\n",
    "ieje=(meje*reje**2)/2.0 # Inercia del eje de las llantas (kg-m^2)\n",
    "\n",
    "# Fuerzas Aceleración\n",
    "# Resistencia a la rodadura\n",
    "#a=0.2231 # Distancia del centro de gravedad al eje de la llanta trasera (m)\n",
    "#l=1.0063 # Distancia de eje de las llantas traseras y delanteras (m)\n",
    "#h=0.07478 # Altura del centro de gravedad del kart con respecto al piso (m)\n",
    "masaEquivalente=((illTotal)+(ieje)+(ii*ng**2))/refc**2"
   ]
  },
  {
   "cell_type": "markdown",
   "metadata": {},
   "source": [
    "## Funciones"
   ]
  },
  {
   "cell_type": "code",
   "execution_count": 36,
   "metadata": {
    "inputHidden": false,
    "outputHidden": false
   },
   "outputs": [],
   "source": [
    "def arrastre(Vx):\n",
    "    return (1/2)*(rho)*af*cd*(Vx+0)**2"
   ]
  },
  {
   "cell_type": "code",
   "execution_count": 37,
   "metadata": {
    "inputHidden": false,
    "outputHidden": false
   },
   "outputs": [],
   "source": [
    "def rodadura(vx,ax):\n",
    "    wr=w*((a/l)+(ax/g*(h/l))) # fuerza vertical sobre las llantas tractivas\n",
    "    fr=0.01*(1+(vx/100.0)) # Factor de rodadura la velocidad del kart debe estar en (km/h)\n",
    "    return wr*fr*cos(theta)"
   ]
  },
  {
   "cell_type": "code",
   "execution_count": 38,
   "metadata": {
    "inputHidden": false,
    "outputHidden": false
   },
   "outputs": [],
   "source": [
    "def torquemotor(omega):\n",
    "    #Necesito RPM\n",
    "    omega=omega*60/(2*np.pi)\n",
    "    #P=3.037*((-0.00000004564538677*omega**3)+(0.0001056995459*omega**2)+(1.53209191*omega)-1.895523696)\n",
    "    P=-3.6134E-8*(omega**3)+2.9953E-5*(omega**2)+(1.6696*omega)+5.4706E-1\n",
    "    T=P/(omega*(2*np.pi)/60)\n",
    "    #T=P/omega\n",
    "    return T"
   ]
  },
  {
   "cell_type": "code",
   "execution_count": 64,
   "metadata": {
    "inputHidden": false,
    "outputHidden": false
   },
   "outputs": [],
   "source": [
    "def vangularmotor(vx):\n",
    "    a=(vx*ng)/refc\n",
    "    if a<50*(2*np.pi)/60:\n",
    "        a=50*(2*np.pi)/60\n",
    "    if a>5000*(2*np.pi)/60:\n",
    "        a=5000*(2*np.pi)/60 \n",
    "    return a # (rad/s)"
   ]
  },
  {
   "cell_type": "code",
   "execution_count": 65,
   "metadata": {
    "inputHidden": false,
    "outputHidden": false
   },
   "outputs": [],
   "source": [
    "def aceleracion(vx,t0):\n",
    "    xx,v=vx\n",
    "    ax=acel[len(acel)-1]\n",
    "    a=(torquemotor(vangularmotor(v))*ng*etaf)/refc-rodadura(v,ax)-arrastre(v)\n",
    "    a=a/(masaEquivalente+masa)\n",
    "    acel.append(a)\n",
    "    return [v,a]"
   ]
  },
  {
   "cell_type": "code",
   "execution_count": 66,
   "metadata": {
    "inputHidden": false,
    "outputHidden": false
   },
   "outputs": [],
   "source": [
    "def posicion(vt,lista,t): \n",
    "    for i,p in enumerate(t):\n",
    "        if(i>0):\n",
    "            x=(p-t[i-1])*(vt[i]+vt[i-1])/2\n",
    "            x=lista[i-1]+x\n",
    "            lista.append(x)"
   ]
  },
  {
   "cell_type": "code",
   "execution_count": 67,
   "metadata": {
    "inputHidden": false,
    "outputHidden": false
   },
   "outputs": [],
   "source": [
    "def VelocidadMaxima(vels):\n",
    "    velmax=0\n",
    "    a=0\n",
    "    for i,v in enumerate(vels):\n",
    "        if v-velmax>0.01 :             \n",
    "             velmax=v\n",
    "             a=i            \n",
    "    return velmax,a"
   ]
  },
  {
   "cell_type": "code",
   "execution_count": 68,
   "metadata": {
    "inputHidden": false,
    "outputHidden": false
   },
   "outputs": [],
   "source": [
    "# Definicion de variables\n",
    "x_0=0\n",
    "v_0=0\n",
    "a_0=0\n",
    "c_ini = [x_0,v_0]\n",
    "t=np.arange(t_in,t_acel,deltat)\n",
    "acel=[]\n",
    "vel=[]\n",
    "pos=[]\n",
    "pos.append(x_0) \n",
    "v=v_0\n",
    "a=a_0\n",
    "acel.append(a)\n",
    "vel.append(v)\n",
    "\n"
   ]
  },
  {
   "cell_type": "code",
   "execution_count": 69,
   "metadata": {
    "inputHidden": false,
    "outputHidden": false
   },
   "outputs": [],
   "source": [
    "def frenado(vx,t0):     \n",
    "    xx,v=vx    \n",
    "    vel2.append(v)\n",
    "    f_d=mu_c*(w/l)*(l-a+h*mu_c)\n",
    "    f_t=mu_c*(w/l)*(a+h*mu_c)\n",
    "    ax=acel2[len(acel2)-1]\n",
    "    af=-f_d-f_t-rodadura(v,ax)-arrastre(v)\n",
    "    if v<0:\n",
    "        v=0\n",
    "        af=0\n",
    "    af=af/(masaEquivalente+masa)\n",
    "    acel2.append(af) \n",
    "    return [v,af]"
   ]
  },
  {
   "cell_type": "code",
   "execution_count": 70,
   "metadata": {
    "inputHidden": false,
    "outputHidden": false
   },
   "outputs": [],
   "source": [
    "def grafacel(pos,sol,t):\n",
    "    plt.ion()\n",
    "    plt.plot(t,sol[:,0],'b')\n",
    "    plt.xlabel(\"Tiempo [s]\")\n",
    "    plt.ylabel(\"Distancia [m]\",color='b')\n",
    "    plt.grid(True)\n",
    "    plt.twinx()\n",
    "    plt.plot(t,sol[:,1],'r')\n",
    "    plt.ylabel(\"Velocidad [m/s]\",color='r')\n",
    "    plt.legend()"
   ]
  },
  {
   "cell_type": "code",
   "execution_count": 71,
   "metadata": {
    "inputHidden": false,
    "outputHidden": false
   },
   "outputs": [],
   "source": [
    "sol = odeint(aceleracion,c_ini,t)\n",
    "vel=sol[:,1]\n",
    "posicion(sol[:,1],pos,t)\n",
    "##\n",
    "t2=np.arange(t_in,t_fren,deltat)\n",
    "x_f=0\n",
    "v_f=max(vel)\n",
    "pos2=[]\n",
    "pos2.append(x_f)\n",
    "vel2=[]\n",
    "acel2=[]\n",
    "acel2.append(acel[len(acel)-1])\n",
    "c_ini2=[x_f,v_f]\n",
    "##\n",
    "sol2 = odeint(frenado,c_ini2,t2)\n",
    "posicion(sol2[:,1],pos2,t2)\n"
   ]
  },
  {
   "cell_type": "markdown",
   "metadata": {},
   "source": [
    "# Resultados y Analisis"
   ]
  },
  {
   "cell_type": "markdown",
   "metadata": {},
   "source": [
    "## Grafica Torque del Motor Electrica"
   ]
  },
  {
   "cell_type": "code",
   "execution_count": 72,
   "metadata": {
    "inputHidden": false,
    "outputHidden": false
   },
   "outputs": [
    {
     "data": {
      "text/plain": [
       "Text(0,0.5,'Torque [Nm]')"
      ]
     },
     "execution_count": 72,
     "metadata": {},
     "output_type": "execute_result"
    },
    {
     "data": {
      "image/png": "[encoded data removed]",
      "text/plain": [
       "<matplotlib.figure.Figure at 0xef0ceca128>"
      ]
     },
     "metadata": {},
     "output_type": "display_data"
    }
   ],
   "source": [
    "om=np.linspace(10,523,100)\n",
    "t9=torquemotor(om)\n",
    "plt.figure()\n",
    "plt.grid(True)\n",
    "plt.plot(om,t9)\n",
    "plt.xlabel(\"Velocidad Angular [Rad/s]\")\n",
    "plt.ylabel(\"Torque [Nm]\")"
   ]
  },
  {
   "cell_type": "markdown",
   "metadata": {
    "inputHidden": false,
    "outputHidden": false
   },
   "source": [
    "## Graficas para Aceleración"
   ]
  },
  {
   "cell_type": "code",
   "execution_count": 73,
   "metadata": {
    "inputHidden": false,
    "outputHidden": false
   },
   "outputs": [
    {
     "data": {
      "image/png": "[encoded data removed]",
      "text/plain": [
       "<matplotlib.figure.Figure at 0xef0ce79a58>"
      ]
     },
     "metadata": {},
     "output_type": "display_data"
    }
   ],
   "source": [
    "grafacel(pos,sol,t)"
   ]
  },
  {
   "cell_type": "markdown",
   "metadata": {},
   "source": [
    "## Graficas de Frenado"
   ]
  },
  {
   "cell_type": "code",
   "execution_count": 74,
   "metadata": {
    "inputHidden": false,
    "outputHidden": false
   },
   "outputs": [
    {
     "data": {
      "image/png": "[encoded data removed]",
      "text/plain": [
       "<matplotlib.figure.Figure at 0xef0cedb2e8>"
      ]
     },
     "metadata": {},
     "output_type": "display_data"
    }
   ],
   "source": [
    "grafacel(pos2,sol2,t2)"
   ]
  },
  {
   "cell_type": "markdown",
   "metadata": {},
   "source": [
    "### Datos resumidos de la aceleración"
   ]
  },
  {
   "cell_type": "code",
   "execution_count": 75,
   "metadata": {
    "inputHidden": false,
    "outputHidden": false
   },
   "outputs": [
    {
     "name": "stdout",
     "output_type": "stream",
     "text": [
      "La velocidad maxima es: 27.05 m/s esta es alcanzada en un tiempo de: 69.36 s. En ese tiempo recorre una distancia de:  1482.96 m\n"
     ]
    }
   ],
   "source": [
    "Velmax=VelocidadMaxima(sol[:,1])[0]\n",
    "u=VelocidadMaxima(sol[:,1])[-1]\n",
    "dist_acel=pos[u]  \n",
    "t_max=t[u]\n",
    "print(\"La velocidad maxima es: %.2f m/s esta es alcanzada en un tiempo de: %.2f s. En ese tiempo recorre una distancia de:  %.2f m\" % (Velmax,t_max,dist_acel))"
   ]
  },
  {
   "cell_type": "markdown",
   "metadata": {
    "inputHidden": false,
    "outputHidden": false
   },
   "source": [
    "### Datos resumidos de la aceleración"
   ]
  },
  {
   "cell_type": "code",
   "execution_count": 76,
   "metadata": {
    "inputHidden": false,
    "outputHidden": false
   },
   "outputs": [
    {
     "name": "stdout",
     "output_type": "stream",
     "text": [
      "La velocidad inicial es: 27.05 m/s esta es alcanzada en un tiempo de: 5.00 s. En ese tiempo recorre una distancia de: 72.78 m\n"
     ]
    }
   ],
   "source": [
    "Velmin=round(max(sol2[:,1]),3)\n",
    "dist_fren=max(pos2)\n",
    "b=0\n",
    "for i,v in enumerate(sol2[:,1]):\n",
    "    #print(v,i)\n",
    "    if ((v>0)&(v>1e-5)):        \n",
    "       b=i\n",
    "t_max=t2[b]\n",
    "print(\"La velocidad inicial es: %.2f m/s esta es alcanzada en un tiempo de: %.2f s. En ese tiempo recorre una distancia de: %.2f m\" % (Velmax,t_max,dist_fren))"
   ]
  },
  {
   "cell_type": "markdown",
   "metadata": {},
   "source": [
    "## Aceleracion y frenado"
   ]
  },
  {
   "cell_type": "code",
   "execution_count": 77,
   "metadata": {},
   "outputs": [
    {
     "name": "stdout",
     "output_type": "stream",
     "text": [
      "La distancia recorrida desde una arrancada hasta la velocidad cero es: 1573.17 [m]. Esta distancia la recorre en un tiempo de 75.00 [s]\n"
     ]
    }
   ],
   "source": [
    "u=VelocidadMaxima(sol[:,1])[-1]\n",
    "recorrido=[]\n",
    "t_r=[]\n",
    "vel_rec=[]\n",
    "for i in range(0,u+1):\n",
    "    vel_rec.append(sol[i,1])\n",
    "    recorrido.append(pos[i])\n",
    "    t_r.append(t[i])\n",
    "    \n",
    "for i in range(0,b+1):\n",
    "    vel_rec.append(sol2[i,1])\n",
    "    recorrido.append(max(pos)+pos2[i])\n",
    "    t_r.append(max(t)+t2[i])\n",
    "           \n",
    "\n",
    "\n",
    "print(\"La distancia recorrida desde una arrancada hasta la velocidad cero es: %.2f [m]. Esta distancia la recorre en un tiempo de %.2f [s]\" %(max(recorrido),max(t_r))) \n"
   ]
  },
  {
   "cell_type": "code",
   "execution_count": 78,
   "metadata": {
    "inputHidden": false,
    "outputHidden": false
   },
   "outputs": [
    {
     "data": {
      "image/png": "[encoded data removed]",
      "text/plain": [
       "<matplotlib.figure.Figure at 0xef0ce279e8>"
      ]
     },
     "metadata": {},
     "output_type": "display_data"
    }
   ],
   "source": [
    "##Grafica \n",
    "plt.ion()\n",
    "plt.plot(t_r,recorrido,'b')\n",
    "plt.xlabel(\"Tiempo [s]\")\n",
    "plt.ylabel(\"Distancia [m]\",color='b')\n",
    "plt.grid(True)\n",
    "plt.twinx()\n",
    "plt.plot(t_r,vel_rec,'r')\n",
    "plt.ylabel(\"Velocidad [m/s]\",color='r')\n",
    "plt.legend()"
   ]
  },
  {
   "cell_type": "markdown",
   "metadata": {},
   "source": [
    "# Analisis con diferentes caracteristicas del automovil\n",
    "***\n",
    "Para este proceso se llevara a cabo los mismos calculos antes mostrados para diferentes caracteristacas del automovil"
   ]
  },
  {
   "cell_type": "markdown",
   "metadata": {},
   "source": [
    "## Relacion de sistema de trasmisión "
   ]
  },
  {
   "cell_type": "code",
   "execution_count": 79,
   "metadata": {
    "inputHidden": false,
    "outputHidden": false
   },
   "outputs": [],
   "source": [
    "Velocidades=[]\n",
    "DistanciasAcel=[]\n",
    "Tiempo_Acel=[]\n",
    "Tiempo_Freno=[]\n",
    "DistanciaFreno=[]\n",
    "ngs=[2,3.2,3.4,4]\n",
    "masas=np.linspace(149,153,20)\n",
    "mu_cs=np.linspace(0.5,1,5)"
   ]
  },
  {
   "cell_type": "code",
   "execution_count": 80,
   "metadata": {
    "inputHidden": false,
    "outputHidden": false
   },
   "outputs": [
    {
     "data": {
      "image/png": "[encoded data removed]",
      "text/plain": [
       "<matplotlib.figure.Figure at 0xef1191a588>"
      ]
     },
     "metadata": {},
     "output_type": "display_data"
    }
   ],
   "source": [
    "# Definicion de variables\n",
    "for ng in ngs:\n",
    "    x_0=0\n",
    "    v_0=0\n",
    "    a_0=0\n",
    "    c_ini = [x_0,v_0]\n",
    "    t=np.arange(t_in,t_acel,deltat)\n",
    "    acel=[]\n",
    "    vel=[]\n",
    "    pos=[]\n",
    "    pos.append(x_0) \n",
    "    v=v_0\n",
    "    a=a_0\n",
    "    acel.append(a)\n",
    "    vel.append(v)\n",
    "   \n",
    "\n",
    "    ## Solucion\n",
    "    sol = odeint(aceleracion,c_ini,t)\n",
    "    vel=sol[:,1]\n",
    "    posicion(sol[:,1],pos,t)\n",
    "    ##\n",
    "    t2=np.arange(t_in,t_fren,deltat)\n",
    "    x_f=0\n",
    "    v_f=max(vel)\n",
    "    pos2=[]\n",
    "    pos2.append(x_f)\n",
    "    vel2=[]\n",
    "    acel2=[]\n",
    "    acel2.append(acel[len(acel)-1])\n",
    "    c_ini2=[x_f,v_f]\n",
    "    ##\n",
    "    sol2 = odeint(frenado,c_ini2,t2)\n",
    "    posicion(sol2[:,1],pos2,t2)\n",
    "    ##\n",
    "    Velmax=VelocidadMaxima(sol[:,1])[0]\n",
    "    Velocidades.append(Velmax)\n",
    "    u=VelocidadMaxima(sol[:,1])[-1];\n",
    "    dist_acel=pos[u]\n",
    "    DistanciasAcel.append(dist_acel)\n",
    "    t_max=t[u]\n",
    "    Tiempo_Acel.append(t_max)\n",
    "    ##\n",
    "    Velmin=max(sol2[:,1])\n",
    "    dist_fren=max(pos2)\n",
    "    b=0\n",
    "    for i,v in enumerate(sol2[:,1]):\n",
    "        #print(v,i)\n",
    "        if ((v>0)&(v>1e-5)):        \n",
    "           b=i\n",
    "    t_max2=t2[b]\n",
    "    DistanciaFreno.append(dist_fren)\n",
    "    Tiempo_Freno.append(t_max2)\n",
    "    u=VelocidadMaxima(sol[:,1])[-1]\n",
    "    recorrido=[]\n",
    "    t_r=[]\n",
    "    vel_rec=[]\n",
    "    for i in range(0,u+1):\n",
    "        vel_rec.append(sol[i,1])\n",
    "        recorrido.append(pos[i])\n",
    "        t_r.append(t[i])\n",
    "\n",
    "    for i in range(0,b+1):\n",
    "        vel_rec.append(sol2[i,1])\n",
    "        recorrido.append(max(pos)+pos2[i])\n",
    "        t_r.append(max(t)+t2[i])\n",
    "    \n",
    "    #plt.ion()\n",
    "    #lt.plot(t_r,recorrido,label=ng)\n",
    "    plt.xlabel(\"Tiempo [s]\")\n",
    "   # plt.ylabel(\"Distancia [m]\",color='b')\n",
    "    plt.grid(True)\n",
    "    #plt.legend(loc='best')\n",
    "    #plt.twinx()\n",
    "    plt.plot(t_r,vel_rec,label=ng)\n",
    "    plt.xlabel(\"Tiempo [s]\")\n",
    "    plt.ylabel(\"Velocidad [m/s]\",color='r')\n",
    "    plt.legend(loc='best')\n",
    "    plt.title(\"Velocidad variando la relacion de transmisión \")\n",
    "    \n"
   ]
  },
  {
   "cell_type": "code",
   "execution_count": 81,
   "metadata": {
    "inputHidden": false,
    "outputHidden": false
   },
   "outputs": [
    {
     "data": {
      "text/html": [
       "<div>\n",
       "<style>\n",
       "    .dataframe thead tr:only-child th {\n",
       "        text-align: right;\n",
       "    }\n",
       "\n",
       "    .dataframe thead th {\n",
       "        text-align: left;\n",
       "    }\n",
       "\n",
       "    .dataframe tbody tr th {\n",
       "        vertical-align: top;\n",
       "    }\n",
       "</style>\n",
       "<table border=\"1\" class=\"dataframe\">\n",
       "  <thead>\n",
       "    <tr style=\"text-align: right;\">\n",
       "      <th></th>\n",
       "      <th>Distancia de Frenado[m]</th>\n",
       "      <th>Distancias Aceleración[m]</th>\n",
       "      <th>Tiempo Velocidad Maxima [s]</th>\n",
       "      <th>Tiempo de Frenado[s]</th>\n",
       "      <th>Velocidad Maxima [m/s]</th>\n",
       "    </tr>\n",
       "  </thead>\n",
       "  <tbody>\n",
       "    <tr>\n",
       "      <th>2.0</th>\n",
       "      <td>72.783616</td>\n",
       "      <td>1482.963568</td>\n",
       "      <td>69.355</td>\n",
       "      <td>4.999</td>\n",
       "      <td>27.053344</td>\n",
       "    </tr>\n",
       "    <tr>\n",
       "      <th>3.2</th>\n",
       "      <td>81.816442</td>\n",
       "      <td>1673.575372</td>\n",
       "      <td>69.539</td>\n",
       "      <td>4.999</td>\n",
       "      <td>29.097374</td>\n",
       "    </tr>\n",
       "    <tr>\n",
       "      <th>3.4</th>\n",
       "      <td>85.773447</td>\n",
       "      <td>1727.472941</td>\n",
       "      <td>69.770</td>\n",
       "      <td>4.999</td>\n",
       "      <td>30.003175</td>\n",
       "    </tr>\n",
       "    <tr>\n",
       "      <th>4.0</th>\n",
       "      <td>96.953657</td>\n",
       "      <td>1870.952810</td>\n",
       "      <td>69.753</td>\n",
       "      <td>4.999</td>\n",
       "      <td>32.580259</td>\n",
       "    </tr>\n",
       "  </tbody>\n",
       "</table>\n",
       "</div>"
      ],
      "text/plain": [
       "     Distancia de Frenado[m]  Distancias Aceleración[m]  \\\n",
       "2.0                72.783616                1482.963568   \n",
       "3.2                81.816442                1673.575372   \n",
       "3.4                85.773447                1727.472941   \n",
       "4.0                96.953657                1870.952810   \n",
       "\n",
       "     Tiempo Velocidad Maxima [s]  Tiempo de Frenado[s]  Velocidad Maxima [m/s]  \n",
       "2.0                       69.355                 4.999               27.053344  \n",
       "3.2                       69.539                 4.999               29.097374  \n",
       "3.4                       69.770                 4.999               30.003175  \n",
       "4.0                       69.753                 4.999               32.580259  "
      ]
     },
     "execution_count": 81,
     "metadata": {},
     "output_type": "execute_result"
    }
   ],
   "source": [
    "d={\"Tiempo de Frenado[s]\":Tiempo_Freno,\"Distancia de Frenado[m]\":DistanciaFreno,'Velocidad Maxima [m/s]':Velocidades,'Distancias Aceleración[m]': DistanciasAcel,\"Tiempo Velocidad Maxima [s]\":Tiempo_Acel}\n",
    "Resultados=pd.DataFrame(data=d,index=ngs)\n",
    "Resultados"
   ]
  },
  {
   "cell_type": "code",
   "execution_count": 82,
   "metadata": {
    "inputHidden": false,
    "outputHidden": false
   },
   "outputs": [],
   "source": [
    "Velocidades=[]\n",
    "DistanciasAcel=[]\n",
    "Tiempo_Acel=[]\n",
    "Tiempo_Freno=[]\n",
    "DistanciaFreno=[]\n",
    "ngs=[2,3.2,3.4,4]\n",
    "masas=np.linspace(149,153,5)\n",
    "mu_cs=np.linspace(0.5,1,5)"
   ]
  },
  {
   "cell_type": "code",
   "execution_count": 83,
   "metadata": {
    "inputHidden": false,
    "outputHidden": false
   },
   "outputs": [],
   "source": [
    "# Definicion de variables\n",
    "for masa in masas:\n",
    "    x_0=0\n",
    "    v_0=0\n",
    "    a_0=0\n",
    "    c_ini = [x_0,v_0]\n",
    "    t=np.arange(t_in,t_acel,deltat)\n",
    "    acel=[]\n",
    "    vel=[]\n",
    "    pos=[]\n",
    "    pos.append(x_0) \n",
    "    v=v_0\n",
    "    a=a_0\n",
    "    acel.append(a)\n",
    "    vel.append(v)\n",
    "   \n",
    "\n",
    "    ## Solucion\n",
    "    sol = odeint(aceleracion,c_ini,t)\n",
    "    vel=sol[:,1]\n",
    "    posicion(sol[:,1],pos,t)\n",
    "    ##\n",
    "    t2=np.arange(t_in,t_fren,deltat)\n",
    "    x_f=0\n",
    "    v_f=max(vel)\n",
    "    pos2=[]\n",
    "    pos2.append(x_f)\n",
    "    vel2=[]\n",
    "    acel2=[]\n",
    "    acel2.append(acel[len(acel)-1])\n",
    "    c_ini2=[x_f,v_f]\n",
    "    ##\n",
    "    sol2 = odeint(frenado,c_ini2,t2)\n",
    "    posicion(sol2[:,1],pos2,t2)\n",
    "    ##\n",
    "    Velmax=VelocidadMaxima(sol[:,1])[0]\n",
    "    Velocidades.append(Velmax)\n",
    "    u=VelocidadMaxima(sol[:,1])[-1];\n",
    "    dist_acel=pos[u]\n",
    "    DistanciasAcel.append(dist_acel)\n",
    "    t_max=t[u]\n",
    "    Tiempo_Acel.append(t_max)\n",
    "    ##\n",
    "    Velmin=max(sol2[:,1])\n",
    "    dist_fren=max(pos2)\n",
    "    b=0\n",
    "    for i,v in enumerate(sol2[:,1]):\n",
    "        #print(v,i)\n",
    "        if ((v>0)&(v>1e-5)):        \n",
    "           b=i\n",
    "    t_max2=t2[b]\n",
    "    DistanciaFreno.append(dist_fren)\n",
    "    Tiempo_Freno.append(t_max2)\n",
    "    "
   ]
  },
  {
   "cell_type": "code",
   "execution_count": 84,
   "metadata": {
    "inputHidden": false,
    "outputHidden": false
   },
   "outputs": [
    {
     "data": {
      "text/html": [
       "<div>\n",
       "<style>\n",
       "    .dataframe thead tr:only-child th {\n",
       "        text-align: right;\n",
       "    }\n",
       "\n",
       "    .dataframe thead th {\n",
       "        text-align: left;\n",
       "    }\n",
       "\n",
       "    .dataframe tbody tr th {\n",
       "        vertical-align: top;\n",
       "    }\n",
       "</style>\n",
       "<table border=\"1\" class=\"dataframe\">\n",
       "  <thead>\n",
       "    <tr style=\"text-align: right;\">\n",
       "      <th></th>\n",
       "      <th>Distancia de Frenado[m]</th>\n",
       "      <th>Distancias Aceleración[m]</th>\n",
       "      <th>Tiempo Velocidad Maxima [s]</th>\n",
       "      <th>Tiempo de Frenado[s]</th>\n",
       "      <th>Velocidad Maxima [m/s]</th>\n",
       "    </tr>\n",
       "  </thead>\n",
       "  <tbody>\n",
       "    <tr>\n",
       "      <th>149.0</th>\n",
       "      <td>96.953657</td>\n",
       "      <td>1870.952810</td>\n",
       "      <td>69.753</td>\n",
       "      <td>4.999</td>\n",
       "      <td>32.580259</td>\n",
       "    </tr>\n",
       "    <tr>\n",
       "      <th>150.0</th>\n",
       "      <td>97.276623</td>\n",
       "      <td>1865.693382</td>\n",
       "      <td>69.661</td>\n",
       "      <td>4.999</td>\n",
       "      <td>32.575300</td>\n",
       "    </tr>\n",
       "    <tr>\n",
       "      <th>151.0</th>\n",
       "      <td>97.595646</td>\n",
       "      <td>1854.606668</td>\n",
       "      <td>69.390</td>\n",
       "      <td>4.999</td>\n",
       "      <td>32.568252</td>\n",
       "    </tr>\n",
       "    <tr>\n",
       "      <th>152.0</th>\n",
       "      <td>97.910753</td>\n",
       "      <td>1847.008746</td>\n",
       "      <td>69.226</td>\n",
       "      <td>4.999</td>\n",
       "      <td>32.562117</td>\n",
       "    </tr>\n",
       "    <tr>\n",
       "      <th>153.0</th>\n",
       "      <td>98.221995</td>\n",
       "      <td>1849.800075</td>\n",
       "      <td>69.381</td>\n",
       "      <td>4.999</td>\n",
       "      <td>32.559501</td>\n",
       "    </tr>\n",
       "  </tbody>\n",
       "</table>\n",
       "</div>"
      ],
      "text/plain": [
       "       Distancia de Frenado[m]  Distancias Aceleración[m]  \\\n",
       "149.0                96.953657                1870.952810   \n",
       "150.0                97.276623                1865.693382   \n",
       "151.0                97.595646                1854.606668   \n",
       "152.0                97.910753                1847.008746   \n",
       "153.0                98.221995                1849.800075   \n",
       "\n",
       "       Tiempo Velocidad Maxima [s]  Tiempo de Frenado[s]  \\\n",
       "149.0                       69.753                 4.999   \n",
       "150.0                       69.661                 4.999   \n",
       "151.0                       69.390                 4.999   \n",
       "152.0                       69.226                 4.999   \n",
       "153.0                       69.381                 4.999   \n",
       "\n",
       "       Velocidad Maxima [m/s]  \n",
       "149.0               32.580259  \n",
       "150.0               32.575300  \n",
       "151.0               32.568252  \n",
       "152.0               32.562117  \n",
       "153.0               32.559501  "
      ]
     },
     "execution_count": 84,
     "metadata": {},
     "output_type": "execute_result"
    }
   ],
   "source": [
    "d={\"Tiempo de Frenado[s]\":Tiempo_Freno,\"Distancia de Frenado[m]\":DistanciaFreno,'Velocidad Maxima [m/s]':Velocidades,'Distancias Aceleración[m]': DistanciasAcel,\"Tiempo Velocidad Maxima [s]\":Tiempo_Acel}\n",
    "Resultados=pd.DataFrame(data=d,index=masas)\n",
    "Resultados"
   ]
  },
  {
   "cell_type": "code",
   "execution_count": 85,
   "metadata": {
    "inputHidden": false,
    "outputHidden": false
   },
   "outputs": [],
   "source": [
    "Velocidades=[]\n",
    "DistanciasAcel=[]\n",
    "Tiempo_Acel=[]\n",
    "Tiempo_Freno=[]\n",
    "DistanciaFreno=[]\n",
    "mu_cs=[0.5,0.75,1]"
   ]
  },
  {
   "cell_type": "code",
   "execution_count": 86,
   "metadata": {
    "inputHidden": false,
    "outputHidden": false
   },
   "outputs": [],
   "source": [
    "# Definicion de variables\n",
    "for mu_c in mu_cs:\n",
    "    x_0=0\n",
    "    v_0=0\n",
    "    a_0=0\n",
    "    c_ini = [x_0,v_0]\n",
    "    t=np.arange(t_in,t_acel,deltat)\n",
    "    acel=[]\n",
    "    vel=[]\n",
    "    pos=[]\n",
    "    pos.append(x_0) \n",
    "    v=v_0\n",
    "    a=a_0\n",
    "    acel.append(a)\n",
    "    vel.append(v)\n",
    "   \n",
    "\n",
    "    ## Solucion\n",
    "    sol = odeint(aceleracion,c_ini,t)\n",
    "    vel=sol[:,1]\n",
    "    posicion(sol[:,1],pos,t)\n",
    "    ##\n",
    "    t2=np.arange(t_in,t_fren,deltat)\n",
    "    x_f=0\n",
    "    v_f=max(vel)\n",
    "    pos2=[]\n",
    "    pos2.append(x_f)\n",
    "    vel2=[]\n",
    "    acel2=[]\n",
    "    acel2.append(acel[len(acel)-1])\n",
    "    c_ini2=[x_f,v_f]\n",
    "    ##\n",
    "    sol2 = odeint(frenado,c_ini2,t2)\n",
    "    posicion(sol2[:,1],pos2,t2)\n",
    "    ##*\n",
    "    Velmax=VelocidadMaxima(sol[:,1])[0]\n",
    "    Velocidades.append(Velmax)\n",
    "    u=VelocidadMaxima(sol[:,1])[-1];\n",
    "    dist_acel=pos[u]\n",
    "    DistanciasAcel.append(dist_acel)\n",
    "    t_max=t[u]\n",
    "    Tiempo_Acel.append(t_max)\n",
    "    ##\n",
    "    Velmin=max(sol2[:,1])\n",
    "    dist_fren=max(pos2)\n",
    "    b=0\n",
    "    for i,v in enumerate(sol2[:,1]):\n",
    "        #print(v,i)\n",
    "        if ((v>0)&(v>1e-5)):        \n",
    "           b=i\n",
    "    t_max2=t2[b]\n",
    "    DistanciaFreno.append(dist_fren)\n",
    "    Tiempo_Freno.append(t_max2)\n"
   ]
  },
  {
   "cell_type": "code",
   "execution_count": 87,
   "metadata": {
    "inputHidden": false,
    "outputHidden": false
   },
   "outputs": [
    {
     "data": {
      "text/html": [
       "<div>\n",
       "<style>\n",
       "    .dataframe thead tr:only-child th {\n",
       "        text-align: right;\n",
       "    }\n",
       "\n",
       "    .dataframe thead th {\n",
       "        text-align: left;\n",
       "    }\n",
       "\n",
       "    .dataframe tbody tr th {\n",
       "        vertical-align: top;\n",
       "    }\n",
       "</style>\n",
       "<table border=\"1\" class=\"dataframe\">\n",
       "  <thead>\n",
       "    <tr style=\"text-align: right;\">\n",
       "      <th></th>\n",
       "      <th>Distancia de Frenado[m]</th>\n",
       "      <th>Distancias Aceleración[m]</th>\n",
       "      <th>Tiempo Velocidad Maxima [s]</th>\n",
       "      <th>Tiempo de Frenado[s]</th>\n",
       "      <th>Velocidad Maxima [m/s]</th>\n",
       "    </tr>\n",
       "  </thead>\n",
       "  <tbody>\n",
       "    <tr>\n",
       "      <th>0.50</th>\n",
       "      <td>98.221995</td>\n",
       "      <td>1849.800075</td>\n",
       "      <td>69.381</td>\n",
       "      <td>4.999</td>\n",
       "      <td>32.559501</td>\n",
       "    </tr>\n",
       "    <tr>\n",
       "      <th>0.75</th>\n",
       "      <td>70.734119</td>\n",
       "      <td>1849.800075</td>\n",
       "      <td>69.381</td>\n",
       "      <td>4.477</td>\n",
       "      <td>32.559501</td>\n",
       "    </tr>\n",
       "    <tr>\n",
       "      <th>1.00</th>\n",
       "      <td>52.552925</td>\n",
       "      <td>1849.800075</td>\n",
       "      <td>69.381</td>\n",
       "      <td>3.300</td>\n",
       "      <td>32.559501</td>\n",
       "    </tr>\n",
       "  </tbody>\n",
       "</table>\n",
       "</div>"
      ],
      "text/plain": [
       "      Distancia de Frenado[m]  Distancias Aceleración[m]  \\\n",
       "0.50                98.221995                1849.800075   \n",
       "0.75                70.734119                1849.800075   \n",
       "1.00                52.552925                1849.800075   \n",
       "\n",
       "      Tiempo Velocidad Maxima [s]  Tiempo de Frenado[s]  \\\n",
       "0.50                       69.381                 4.999   \n",
       "0.75                       69.381                 4.477   \n",
       "1.00                       69.381                 3.300   \n",
       "\n",
       "      Velocidad Maxima [m/s]  \n",
       "0.50               32.559501  \n",
       "0.75               32.559501  \n",
       "1.00               32.559501  "
      ]
     },
     "execution_count": 87,
     "metadata": {},
     "output_type": "execute_result"
    }
   ],
   "source": [
    "d={\"Tiempo de Frenado[s]\":Tiempo_Freno,\"Distancia de Frenado[m]\":DistanciaFreno,'Velocidad Maxima [m/s]':Velocidades,'Distancias Aceleración[m]': DistanciasAcel,\"Tiempo Velocidad Maxima [s]\":Tiempo_Acel}\n",
    "Resultados=pd.DataFrame(data=d,index=mu_cs)\n",
    "Resultados"
   ]
  },
  {
   "cell_type": "code",
   "execution_count": 88,
   "metadata": {
    "inputHidden": true,
    "outputHidden": false
   },
   "outputs": [
    {
     "data": {
      "text/html": [
       "<div>\n",
       "<style>\n",
       "    .dataframe thead tr:only-child th {\n",
       "        text-align: right;\n",
       "    }\n",
       "\n",
       "    .dataframe thead th {\n",
       "        text-align: left;\n",
       "    }\n",
       "\n",
       "    .dataframe tbody tr th {\n",
       "        vertical-align: top;\n",
       "    }\n",
       "</style>\n",
       "<table border=\"1\" class=\"dataframe\">\n",
       "  <thead>\n",
       "    <tr style=\"text-align: right;\">\n",
       "      <th></th>\n",
       "      <th>Distancia de Frenado[m]</th>\n",
       "      <th>Distancias Aceleración[m]</th>\n",
       "      <th>Tiempo Velocidad Maxima [s]</th>\n",
       "      <th>Tiempo de Frenado[s]</th>\n",
       "      <th>Velocidad Maxima [m/s]</th>\n",
       "    </tr>\n",
       "  </thead>\n",
       "  <tbody>\n",
       "    <tr>\n",
       "      <th>0.50</th>\n",
       "      <td>98.221995</td>\n",
       "      <td>1849.800075</td>\n",
       "      <td>69.381</td>\n",
       "      <td>4.999</td>\n",
       "      <td>32.559501</td>\n",
       "    </tr>\n",
       "    <tr>\n",
       "      <th>0.75</th>\n",
       "      <td>70.734119</td>\n",
       "      <td>1849.800075</td>\n",
       "      <td>69.381</td>\n",
       "      <td>4.477</td>\n",
       "      <td>32.559501</td>\n",
       "    </tr>\n",
       "    <tr>\n",
       "      <th>1.00</th>\n",
       "      <td>52.552925</td>\n",
       "      <td>1849.800075</td>\n",
       "      <td>69.381</td>\n",
       "      <td>3.300</td>\n",
       "      <td>32.559501</td>\n",
       "    </tr>\n",
       "  </tbody>\n",
       "</table>\n",
       "</div>"
      ],
      "text/plain": [
       "      Distancia de Frenado[m]  Distancias Aceleración[m]  \\\n",
       "0.50                98.221995                1849.800075   \n",
       "0.75                70.734119                1849.800075   \n",
       "1.00                52.552925                1849.800075   \n",
       "\n",
       "      Tiempo Velocidad Maxima [s]  Tiempo de Frenado[s]  \\\n",
       "0.50                       69.381                 4.999   \n",
       "0.75                       69.381                 4.477   \n",
       "1.00                       69.381                 3.300   \n",
       "\n",
       "      Velocidad Maxima [m/s]  \n",
       "0.50               32.559501  \n",
       "0.75               32.559501  \n",
       "1.00               32.559501  "
      ]
     },
     "execution_count": 88,
     "metadata": {},
     "output_type": "execute_result"
    }
   ],
   "source": [
    "Resultados"
   ]
  },
  {
   "cell_type": "raw",
   "metadata": {
    "inputHidden": false,
    "outputHidden": false
   },
   "source": []
  }
 ],
 "metadata": {
  "kernel_info": {
   "name": "python3"
  },
  "kernelspec": {
   "display_name": "Python 3",
   "language": "python",
   "name": "python3"
  },
  "language_info": {
   "codemirror_mode": {
    "name": "ipython",
    "version": 3
   },
   "file_extension": ".py",
   "mimetype": "text/x-python",
   "name": "python",
   "nbconvert_exporter": "python",
   "pygments_lexer": "ipython3",
   "version": "3.6.3"
  },
  "nteract": {
   "version": "0.7.1"
  }
 },
 "nbformat": 4,
 "nbformat_minor": 4
}
