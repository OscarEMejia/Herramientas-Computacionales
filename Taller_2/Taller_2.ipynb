{
  "cells": [
    {
      "cell_type": "markdown",
      "source": [
        "# Taller 2.\n",
        "## Oscar Eduardo Mejia \n",
        "### 201516790\n",
        "***\n"
      ],
      "metadata": {
        "inputHidden": false,
        "outputHidden": false
      }
    },
    {
      "cell_type": "markdown",
      "source": [
        "# Marco Teorico\n",
        "***"
      ],
      "metadata": {}
    },
    {
      "cell_type": "markdown",
      "source": [
        "Para este taller, se modelara un *KART ELECTRICO* que acelera desde el reposo y cuando se llegue a la velocidad maxima se modelara en el frenado del mismo.\n",
        "\n",
        "**Formulas**  \n",
        "1. Aceleración: \n",
        ">$(M+M_r)a_k = \\frac{T_eN_e\\eta_t}{r}-{R_x}-D_A$ \n",
        "  \n",
        ">donde:  \n",
        ">* $T_e$ : Torque dado por el motor\n",
        ">* $N_e$ : Relación del sistema de trasmision\n",
        ">* $\\eta_T$: Eficiencia del sistema de trasmision\n",
        ">* $R_x$: Resistencia a la rodadura  \n",
        ">* $D_A$: Fuerza de arrastre aerodinamico\n",
        ">* $M_r$: Masa equivalente de los componentes rotativos\n",
        "\n",
        "2. Frenado:\n",
        ">$(M+M_r)a_k = F_b-{R_x}-D_A$ \n",
        "  \n",
        ">donde:  \n",
        ">* $F_b$: Fuerza total del frenado aplicada en llantas delanteras y llantas traseras\n",
        ">>$F_{bd}= \\mu_c\\dfrac{w}{l}*(l-a+h*\\mu_c) $  \n",
        ">>$F_{bt}= \\mu_c\\dfrac{w}{l}*(a+h*\\mu_c) $\n",
        "\n",
        ">>donde:  \n",
        ">>* $\\mu_c$: Coeficiente de adherencia\n",
        ">>* $w$: Peso del kart junto al conductor\n",
        ">>* $l$: Distancia de eje de las llantas traseras y delanteras \n",
        ">>* $a$: Distancia del centro de gravedad al eje de la llanta trasera\n",
        ">>* $h$: Altura del centro de gravedad  \n",
        "\n",
        "3. Torque:\n",
        ">$T=\\cfrac{-3.6134*10^{-8}*(\\omega_0^{3})+2.9953*10^{-5}*(\\omega_0^{2})+(1.6696*\\omega_0)+5.4706*10^{-1}}{\\omega_1}$  \n",
        ">>donde:  \n",
        ">>* $\\omega_0$: Velocidad Angular en RPM\n",
        ">>* $\\omega_1$: Velocidad Angular en rad/s  \n",
        "\n",
        "** Calculo de posición y velocidad **  \n",
        "\n",
        "Para el calculo de la velocidad y la posicion se realizara una integración numerica por medio de la función **odeint**.\n"
      ],
      "metadata": {}
    },
    {
      "cell_type": "code",
      "source": [
        "%pylab inline\n",
        "import matplotlib.pyplot as plt\n",
        "import matplotlib.pylab as pylab\n",
        "import numpy as np\n",
        "import string\n",
        "import matplotlib.cm as cm\n",
        "import os\n",
        "import pandas as pd\n",
        "from scipy import ndimage\n",
        "from scipy.integrate import odeint\n",
        "import plotly.plotly as py\n",
        "import cufflinks as cf"
      ],
      "outputs": [
        {
          "output_type": "stream",
          "name": "stdout",
          "text": [
            "Populating the interactive namespace from numpy and matplotlib\n"
          ]
        },
        {
          "output_type": "error",
          "ename": "ModuleNotFoundError",
          "evalue": "No module named 'plotly'",
          "traceback": [
            "\u001b[1;31m---------------------------------------------------------------------------\u001b[0m",
            "\u001b[1;31mModuleNotFoundError\u001b[0m                       Traceback (most recent call last)",
            "\u001b[1;32m<ipython-input-2-8f9b4e8af664>\u001b[0m in \u001b[0;36m<module>\u001b[1;34m()\u001b[0m\n\u001b[0;32m      9\u001b[0m \u001b[1;32mfrom\u001b[0m \u001b[0mscipy\u001b[0m \u001b[1;32mimport\u001b[0m \u001b[0mndimage\u001b[0m\u001b[1;33m\u001b[0m\u001b[0m\n\u001b[0;32m     10\u001b[0m \u001b[1;32mfrom\u001b[0m \u001b[0mscipy\u001b[0m\u001b[1;33m.\u001b[0m\u001b[0mintegrate\u001b[0m \u001b[1;32mimport\u001b[0m \u001b[0modeint\u001b[0m\u001b[1;33m\u001b[0m\u001b[0m\n\u001b[1;32m---> 11\u001b[1;33m \u001b[1;32mimport\u001b[0m \u001b[0mplotly\u001b[0m\u001b[1;33m.\u001b[0m\u001b[0mplotly\u001b[0m \u001b[1;32mas\u001b[0m \u001b[0mpy\u001b[0m\u001b[1;33m\u001b[0m\u001b[0m\n\u001b[0m\u001b[0;32m     12\u001b[0m \u001b[1;32mimport\u001b[0m \u001b[0mcufflinks\u001b[0m \u001b[1;32mas\u001b[0m \u001b[0mcf\u001b[0m\u001b[1;33m\u001b[0m\u001b[0m\n",
            "\u001b[1;31mModuleNotFoundError\u001b[0m: No module named 'plotly'"
          ]
        }
      ],
      "execution_count": 2,
      "metadata": {
        "inputHidden": false,
        "outputHidden": false
      }
    },
    {
      "cell_type": "markdown",
      "source": [
        "Variables a Modificar"
      ],
      "metadata": {}
    },
    {
      "cell_type": "code",
      "source": [
        "masa=152.0 # masa del Kart (kg)\n",
        "ng=3.4 # Relación de Transmisión\n",
        "a=0.2231 # Distancia del centro de gravedad al eje de la llanta trasera (m)\n",
        "l=1.0063 # Distancia de eje de las llantas traseras y delanteras (m)\n",
        "h=0.07478 # Altura del centro de gravedad del kart con respecto al piso (m)\n",
        "mu_c=1 #coeficiente de adherencia de las ruedas\n",
        "\n",
        "# Variables de tiempo\n",
        "t_in=0 #Tiempo incial de analisis\n",
        "t_acel=100 #Tiempo final para el analisis de la aceleracion\n",
        "t_fren=5 #Tiempo final para el analisis del freno\n",
        "deltat=0.001 # Paso del tiempo"
      ],
      "outputs": [],
      "execution_count": 3,
      "metadata": {
        "inputHidden": false,
        "outputHidden": false
      }
    },
    {
      "cell_type": "markdown",
      "source": [
        "## No modificiar de aqui hacia abajo"
      ],
      "metadata": {}
    },
    {
      "cell_type": "markdown",
      "source": [
        "A continuacion se definen parametros geometricos y fisicos del carro y algunas constantes relacionadas a los neumaticos y la carretera.  \n",
        "Adicionalmente las funciones para el calculo de fuerza.\n",
        "***\n",
        "__Nota:__ Las graficas se encuentran al final del documento."
      ],
      "metadata": {
        "inputHidden": false,
        "outputHidden": false
      }
    },
    {
      "cell_type": "markdown",
      "source": [
        "### Datos geometricos y caracteristicas fisicas del kart y sus datos"
      ],
      "metadata": {
        "inputHidden": false,
        "outputHidden": false
      }
    },
    {
      "cell_type": "code",
      "source": [
        "# Datos Llantas tractivas \n",
        "rll=0.139 # Radio geométrico de las llantas en traseras (m)\n",
        "refc=0.98*rll # Radio efectivo llantas traseras (m)\n",
        "rin=0.0631 #radio interno del neumático (m)\n",
        "\n",
        "# Datos Transmisión\n",
        "#dp=11.0 # Dientes del piñon\n",
        "#dpl=39.0 # Dientes del plato\n",
        "#ng=dpl/dp # Relación de Transmisión\n",
        "ng=1.9\n",
        "etaf=0.95 # Eficiencia de transmisión\n",
        "\n",
        "# Datos eje llantas\n",
        "reje=0.02 # Radio eje de las llantas (m)\n",
        "meje=3.832 # Masa del eje (kg)\n",
        "\n",
        "# Datos Kart general\n",
        "#masa=152.0 # masa del Kart (kg)\n",
        "g=9.81 # Gravedad (m/s)\n",
        "w=masa*g # peso del Kart (N)\n",
        "\n",
        "# Datos Fuerzas de la fórmula de aceleración\n",
        "rho=1.1955 # densidad del aire (kg/m^3)\n",
        "dll=0.975 # Distancia entre ejes de llantas delanteras (m)\n",
        "alj=0.88 # Altura con el piloto sentado en el kart (estatura 1.68 m) (m)\n",
        "af=(dll*alj)/2 # Area Frontal Kart (m^2)\n",
        "cd=0.89 # Coeficiente de Arrastre Kart\n",
        "vw=0.0 # velocidad del viento (m/s)\n",
        "theta=0.0 # Angulo carretera\n",
        "\n",
        "# Inercias\n",
        "ii=5.2E-3 # Inercia motor de combustión (kg m^2) \n",
        "\n",
        "mllt=1.43 # Masa llantas traseras (kg)\n",
        "mlld=1.20 # Masa llantas delanteras (kg)\n",
        "rlld=0.129 # Radio llantas delanteras (m)\n",
        "rind=0.0631 # Radio rin llantas delanteras (m)\n",
        "mbt=0.7*mllt # El porcentaje de la masa total que pesa la parte \"banda\" de la llanta trasera\n",
        "mdt=0.3*mllt # El porcentaje de la masa total que pesa la parte \"disco\" de la llanta trasera\n",
        "mbd=0.7*mlld # El porcentaje de la masa total que pesa la parte \"banda\" de la llanta delantera\n",
        "mdd=0.3*mlld # El porcentaje de la masa total que pesa la parte \"disco\" de la llanta delantera\n",
        "illd=(mbd*rlld)+(mdd*(rlld**2-rind**2))/2 # Inercia 1 llanta delantera (kg-m^2)\n",
        "illt=(mbt*rll)+(mdt*(rll**2-rin**2))/2 # Inercia 1 llanta trasera (kg-m^2)\n",
        "illTotal=2*illd+illt*2\n",
        "#paso=7.62 #(mm)\n",
        "#rpim= paso*(0.6+(1/tan(180/dp))) # Radio Piñon (mm)\n",
        "#rplam=paso*(0.6+(1/tan(180/dpl))) # Radio Plato (mm)\n",
        "#rpi= rpim/1000 #Radio Piñon (m)\n",
        "#rpla= rplam/1000 #Radio Plato (m)\n",
        "rpi=0.01525#(m)\n",
        "rpla=0.04096 #(m)\n",
        "rhoac=7850.0 # Densidad del Acero (kg/m^3)\n",
        "bpi=0.01 # Ancho piñon (m)\n",
        "bpla=0.02 # Ancho plato (m)\n",
        "vpi= bpi*np.pi*rpi**2 # Volumen del piñon (m^3)\n",
        "vpla=bpla*np.pi*rpla**2 # Volumen del plato (m^3)\n",
        "mpi=rhoac*vpi # Masa del piñon (kg)\n",
        "mpla=rhoac*vpla # Masa del plato (kg)\n",
        "ig=((mpi*(rpi**2))/2.0)+((mpla*(rpla**2))/2.0) # Inercia de la transmisión (kg-m^2)\n",
        "\n",
        "ieje=(meje*reje**2)/2.0 # Inercia del eje de las llantas (kg-m^2)\n",
        "\n",
        "# Fuerzas Aceleración\n",
        "# Resistencia a la rodadura\n",
        "#a=0.2231 # Distancia del centro de gravedad al eje de la llanta trasera (m)\n",
        "#l=1.0063 # Distancia de eje de las llantas traseras y delanteras (m)\n",
        "#h=0.07478 # Altura del centro de gravedad del kart con respecto al piso (m)\n",
        "masaEquivalente=((illTotal)+(ieje)+(ii*ng**2))/refc**2"
      ],
      "outputs": [],
      "execution_count": 4,
      "metadata": {
        "inputHidden": false,
        "outputHidden": false
      }
    },
    {
      "cell_type": "markdown",
      "source": [
        "## Funciones"
      ],
      "metadata": {}
    },
    {
      "cell_type": "code",
      "source": [
        "def arrastre(Vx):\n",
        "    return (1/2)*(rho)*af*cd*(Vx+0)**2"
      ],
      "outputs": [],
      "execution_count": 5,
      "metadata": {
        "inputHidden": false,
        "outputHidden": false
      }
    },
    {
      "cell_type": "code",
      "source": [
        "def rodadura(vx,ax):\n",
        "    wr=w*((a/l)+(ax/g*(h/l))) # fuerza vertical sobre las llantas tractivas\n",
        "    fr=0.01*(1+(vx/100.0)) # Factor de rodadura la velocidad del kart debe estar en (km/h)\n",
        "    return wr*fr*cos(theta)"
      ],
      "outputs": [],
      "execution_count": 6,
      "metadata": {
        "inputHidden": false,
        "outputHidden": false
      }
    },
    {
      "cell_type": "code",
      "source": [
        "def torquemotor(omega):\n",
        "    #Necesito RPM\n",
        "    omega=omega*60/(2*np.pi)\n",
        "    #P=3.037*((-0.00000004564538677*omega**3)+(0.0001056995459*omega**2)+(1.53209191*omega)-1.895523696)\n",
        "    P=-3.6134E-8*(omega**3)+2.9953E-5*(omega**2)+(1.6696*omega)+5.4706E-1\n",
        "    T=P/(omega*(2*np.pi)/60)\n",
        "    #T=P/omega\n",
        "    return T"
      ],
      "outputs": [],
      "execution_count": 7,
      "metadata": {
        "inputHidden": false,
        "outputHidden": false
      }
    },
    {
      "cell_type": "code",
      "source": [
        "def vangularmotor(vx):\n",
        "    a=(vx*ng)/refc\n",
        "    if a<50*(2*np.pi)/60:\n",
        "        a=50*(2*np.pi)/60\n",
        "    if a>5000*(2*np.pi)/60:\n",
        "        a=5000*(2*np.pi)/60 \n",
        "    return a # (rad/s)"
      ],
      "outputs": [],
      "execution_count": 8,
      "metadata": {
        "inputHidden": false,
        "outputHidden": false
      }
    },
    {
      "cell_type": "code",
      "source": [
        "def aceleracion(vx,t0):\n",
        "    xx,v=vx\n",
        "    ax=acel[len(acel)-1]\n",
        "    a=(torquemotor(vangularmotor(v))*ng*etaf)/refc-rodadura(v,ax)-arrastre(v)\n",
        "    a=a/(masaEquivalente+masa)\n",
        "    acel.append(a)\n",
        "    return [v,a]"
      ],
      "outputs": [],
      "execution_count": 9,
      "metadata": {
        "inputHidden": false,
        "outputHidden": false
      }
    },
    {
      "cell_type": "code",
      "source": [
        "def posicion(vt,lista,t): \n",
        "    for i,p in enumerate(t):\n",
        "        if(i>0):\n",
        "            x=(p-t[i-1])*(vt[i]+vt[i-1])/2\n",
        "            x=lista[i-1]+x\n",
        "            lista.append(x)"
      ],
      "outputs": [],
      "execution_count": 10,
      "metadata": {
        "inputHidden": false,
        "outputHidden": false
      }
    },
    {
      "cell_type": "code",
      "source": [
        "def VelocidadMaxima(vels):\n",
        "    velmax=0\n",
        "    a=0\n",
        "    for i,v in enumerate(vels):\n",
        "        if v-velmax>0.01 :             \n",
        "             velmax=v\n",
        "             a=i            \n",
        "    return velmax,a"
      ],
      "outputs": [],
      "execution_count": 11,
      "metadata": {
        "inputHidden": false,
        "outputHidden": false
      }
    },
    {
      "cell_type": "code",
      "source": [
        "def grafacel(pos,sol,t):\n",
        "    plt.ion()\n",
        "    plt.plot(t,sol[:,0],'b')\n",
        "    plt.xlabel(\"Tiempo [s]\")\n",
        "    plt.ylabel(\"Distancia [m]\",color='b')\n",
        "    plt.grid(True)\n",
        "    plt.twinx()\n",
        "    plt.plot(t,sol[:,1]*3.6,'r')\n",
        "    plt.ylabel(\"Velocidad [km/h]\",color='r')\n",
        "    plt.legend()"
      ],
      "outputs": [],
      "execution_count": 12,
      "metadata": {
        "inputHidden": false,
        "outputHidden": false
      }
    },
    {
      "cell_type": "markdown",
      "source": [
        "### Inicio del proceso del calculo de aceleracion y frenado\n"
      ],
      "metadata": {}
    },
    {
      "cell_type": "code",
      "source": [
        "# Definicion de variables\n",
        "x_0=0\n",
        "v_0=0\n",
        "a_0=0\n",
        "c_ini = [x_0,v_0]\n",
        "t=np.arange(t_in,t_acel,deltat)\n",
        "acel=[]\n",
        "vel=[]\n",
        "pos=[]\n",
        "pos.append(x_0) \n",
        "v=v_0\n",
        "a=a_0\n",
        "acel.append(a)\n",
        "vel.append(v)\n",
        "\n"
      ],
      "outputs": [],
      "execution_count": 13,
      "metadata": {
        "inputHidden": false,
        "outputHidden": false
      }
    },
    {
      "cell_type": "code",
      "source": [
        "def frenado(vx,t0):     \n",
        "    xx,v=vx    \n",
        "    vel2.append(v)\n",
        "    f_d=mu_c*(w/l)*(l-a+h*mu_c)\n",
        "    f_t=mu_c*(w/l)*(a+h*mu_c)\n",
        "    ax=acel2[len(acel2)-1]\n",
        "    af=-f_d-f_t-rodadura(v,ax)-arrastre(v)\n",
        "    if v<0:\n",
        "        v=0\n",
        "        af=0\n",
        "    af=af/(masaEquivalente+masa)\n",
        "    acel2.append(af) \n",
        "    return [v,af]"
      ],
      "outputs": [],
      "execution_count": 14,
      "metadata": {
        "inputHidden": false,
        "outputHidden": false
      }
    },
    {
      "cell_type": "code",
      "source": [
        "sol = odeint(aceleracion,c_ini,t)\n",
        "vel=sol[:,1]\n",
        "posicion(sol[:,1],pos,t)\n",
        "##\n",
        "t2=np.arange(t_in,t_fren,deltat)\n",
        "x_f=0\n",
        "v_f=max(vel)\n",
        "pos2=[]\n",
        "pos2.append(x_f)\n",
        "vel2=[]\n",
        "acel2=[]\n",
        "acel2.append(acel[len(acel)-1])\n",
        "c_ini2=[x_f,v_f]\n",
        "##\n",
        "sol2 = odeint(frenado,c_ini2,t2)\n",
        "posicion(sol2[:,1],pos2,t2)\n"
      ],
      "outputs": [],
      "execution_count": 15,
      "metadata": {
        "inputHidden": false,
        "outputHidden": false
      }
    },
    {
      "cell_type": "markdown",
      "source": [
        "# Resultados y Analisis"
      ],
      "metadata": {}
    },
    {
      "cell_type": "markdown",
      "source": [
        "## Grafica Torque del Motor Electrica"
      ],
      "metadata": {}
    },
    {
      "cell_type": "code",
      "source": [
        "om=np.linspace(10,523,100)\n",
        "t9=torquemotor(om)\n",
        "plt.figure()\n",
        "plt.grid(True)\n",
        "om=om*(60/(2*np.pi))\n",
        "plt.plot(om,t9)\n",
        "plt.xlabel(\"Velocidad Angular [RPM]\")\n",
        "plt.ylabel(\"Torque [Nm]\")"
      ],
      "outputs": [
        {
          "output_type": "execute_result",
          "execution_count": 16,
          "data": {
            "text/plain": [
              "Text(0,0.5,'Torque [Nm]')"
            ]
          },
          "metadata": {}
        },
        {
          "output_type": "display_data",
          "data": {
            "text/plain": [
              "<matplotlib.figure.Figure at 0xc941675c88>"
            ],
            "image/png": "[encoded data removed]"
          },
          "metadata": {}
        }
      ],
      "execution_count": 16,
      "metadata": {
        "inputHidden": false,
        "outputHidden": false
      }
    },
    {
      "cell_type": "markdown",
      "source": [
        "Como se observa en la grafica anterior, el torque entregado por el motor electrico es mayor a bajas velocidades angulares. La relacion no es lineal sino polinomial de grado 3. A su vez, a bajas revoluciones (<100 RPM) el motor tiende a a dar un torque constante de aproximadamente 16 Nm"
      ],
      "metadata": {}
    },
    {
      "cell_type": "markdown",
      "source": [
        "## Graficas para Aceleración"
      ],
      "metadata": {
        "inputHidden": false,
        "outputHidden": false
      }
    },
    {
      "cell_type": "code",
      "source": [
        "grafacel(pos,sol,t)"
      ],
      "outputs": [
        {
          "output_type": "stream",
          "name": "stderr",
          "text": [
            "No handles with labels found to put in legend.\n"
          ]
        },
        {
          "output_type": "display_data",
          "data": {
            "text/plain": [
              "<matplotlib.figure.Figure at 0xc9416753c8>"
            ],
            "image/png": "[encoded data removed]"
          },
          "metadata": {}
        }
      ],
      "execution_count": 17,
      "metadata": {
        "inputHidden": false,
        "outputHidden": false
      }
    },
    {
      "cell_type": "markdown",
      "source": [
        "A partir del reposo, el **kart** empieza a acelerar de forma rapida, a medida que amuenta su velocidad tiende a una velocidad constante, dicha velocidad final es la velocidad maxima.   \n",
        "Debido a la integracion numerica se presentan variaciones minimas en el estado estable del **kart**, estos cambios se ven reflejados en la tercera y/o cuarta cifra decimal. Esto ultimo pude con llevar a ligeros errores en la velocidad maxima, pero sobretodo en el tiempo en el que se alcanza la velocidad maxima, ya que segun la integracion numerica la velocidad crece constantemente.   "
      ],
      "metadata": {}
    },
    {
      "cell_type": "markdown",
      "source": [
        "## Graficas de Frenado"
      ],
      "metadata": {}
    },
    {
      "cell_type": "code",
      "source": [
        "grafacel(pos2,sol2,t2)"
      ],
      "outputs": [
        {
          "output_type": "stream",
          "name": "stderr",
          "text": [
            "No handles with labels found to put in legend.\n"
          ]
        },
        {
          "output_type": "display_data",
          "data": {
            "text/plain": [
              "<matplotlib.figure.Figure at 0xc94167ec88>"
            ],
            "image/png": "[encoded data removed]"
          },
          "metadata": {}
        }
      ],
      "execution_count": 18,
      "metadata": {
        "inputHidden": false,
        "outputHidden": false
      }
    },
    {
      "cell_type": "markdown",
      "source": [
        "A partir de la velocidad maxima, el **kart** empieza a frenar de forma *casi* constante, ya que las mayores fuerzas que intervienen en este proceso no dependen de la velocidad ni la aceleracion del kart.    \n",
        "Para este proceso se tiene que hacer una corrección en la integracion numerica donde la velocidad y la aceleracion  son cero, o sino el cuerpo empieza a tener una velocidad negativa, lo cual no aplica en este caso.  "
      ],
      "metadata": {}
    },
    {
      "cell_type": "markdown",
      "source": [
        "### Datos resumidos de la aceleración"
      ],
      "metadata": {}
    },
    {
      "cell_type": "code",
      "source": [
        "Velmax=VelocidadMaxima(sol[:,1])[0]\n",
        "u=VelocidadMaxima(sol[:,1])[-1]\n",
        "dist_acel=pos[u]  \n",
        "t_max=t[u]\n",
        "print(\"La velocidad maxima es: %.2f m/s esta es alcanzada en un tiempo de: %.2f s. En ese tiempo recorre una distancia de:  %.2f m\" % (Velmax,t_max,dist_acel))"
      ],
      "outputs": [
        {
          "output_type": "stream",
          "name": "stdout",
          "text": [
            "La velocidad maxima es: 26.95 m/s esta es alcanzada en un tiempo de: 92.88 s. En ese tiempo recorre una distancia de:  2081.94 m\n"
          ]
        }
      ],
      "execution_count": 19,
      "metadata": {
        "inputHidden": false,
        "outputHidden": false
      }
    },
    {
      "cell_type": "markdown",
      "source": [
        "### Datos resumidos de la aceleración"
      ],
      "metadata": {
        "inputHidden": false,
        "outputHidden": false
      }
    },
    {
      "cell_type": "code",
      "source": [
        "Velmin=round(max(sol2[:,1]),3)\n",
        "dist_fren=max(pos2)\n",
        "b=0\n",
        "for i,v in enumerate(sol2[:,1]):\n",
        "    #print(v,i)\n",
        "    if ((v>0)&(v>1e-5)):        \n",
        "       b=i\n",
        "t_max=t2[b]\n",
        "print(\"La velocidad inicial es: %.2f m/s esta es alcanzada en un tiempo de: %.2f s. En ese tiempo recorre una distancia de: %.2f m\" % (Velmax,t_max,dist_fren))"
      ],
      "outputs": [
        {
          "output_type": "stream",
          "name": "stdout",
          "text": [
            "La velocidad inicial es: 26.95 m/s esta es alcanzada en un tiempo de: 2.75 s. En ese tiempo recorre una distancia de: 36.54 m\n"
          ]
        }
      ],
      "execution_count": 20,
      "metadata": {
        "inputHidden": false,
        "outputHidden": false
      }
    },
    {
      "cell_type": "markdown",
      "source": [
        "## Aceleracion y frenado"
      ],
      "metadata": {}
    },
    {
      "cell_type": "code",
      "source": [
        "u=VelocidadMaxima(sol[:,1])[-1]\n",
        "recorrido=[]\n",
        "t_r=[]\n",
        "vel_rec=[]\n",
        "for i in range(0,u+1):\n",
        "    vel_rec.append(sol[i,1])\n",
        "    recorrido.append(pos[i])\n",
        "    t_r.append(t[i])\n",
        "    \n",
        "for i in range(0,b+1):\n",
        "    vel_rec.append(sol2[i,1])\n",
        "    recorrido.append(max(pos)+pos2[i])\n",
        "    t_r.append(max(t)+t2[i])\n",
        "           \n",
        "\n\n",
        "print(\"La distancia recorrida desde una arrancada hasta la velocidad cero es: %.2f [m]. Esta distancia la recorre en un tiempo de %.2f [s]\" %(max(recorrido),max(t_r))) \n"
      ],
      "outputs": [
        {
          "output_type": "stream",
          "name": "stdout",
          "text": [
            "La distancia recorrida desde una arrancada hasta la velocidad cero es: 2310.28 [m]. Esta distancia la recorre en un tiempo de 102.75 [s]\n"
          ]
        }
      ],
      "execution_count": 21,
      "metadata": {}
    },
    {
      "cell_type": "code",
      "source": [
        "##Grafica \n",
        "plt.ion()\n",
        "plt.plot(t_r,recorrido,'b')\n",
        "plt.xlabel(\"Tiempo [s]\")\n",
        "plt.ylabel(\"Distancia [m]\",color='b')\n",
        "plt.grid(True)\n",
        "plt.twinx()\n",
        "plt.plot(t_r,vel_rec,'r')\n",
        "plt.ylabel(\"Velocidad [m/s]\",color='r')\n",
        "plt.legend()"
      ],
      "outputs": [
        {
          "output_type": "stream",
          "name": "stderr",
          "text": [
            "No handles with labels found to put in legend.\n"
          ]
        },
        {
          "output_type": "execute_result",
          "execution_count": 22,
          "data": {
            "text/plain": [
              "<matplotlib.legend.Legend at 0xc943dc0f28>"
            ]
          },
          "metadata": {}
        },
        {
          "output_type": "display_data",
          "data": {
            "text/plain": [
              "<matplotlib.figure.Figure at 0xc943d73278>"
            ],
            "image/png": "[encoded data removed]"
          },
          "metadata": {}
        }
      ],
      "execution_count": 22,
      "metadata": {
        "inputHidden": false,
        "outputHidden": false
      }
    },
    {
      "cell_type": "markdown",
      "source": [
        "En la grafica anterior, se resume el proceso de aceleración desde el resposo hasta la velocidad maxima y frenado esde la velocidad maxima hasta el reposo. En ella se muestra la posición y aceleración a traves del tiempo.   \n",
        "Se ve que el proceso de aceleración es extremadamente lento en comparación al proceso de frenado. "
      ],
      "metadata": {}
    },
    {
      "cell_type": "markdown",
      "source": [
        "# Analisis con diferentes caracteristicas del automovil\n",
        "***\n",
        "Para este proceso se llevara a cabo los mismos calculos antes mostrados para diferentes caracteristacas del automovil"
      ],
      "metadata": {}
    },
    {
      "cell_type": "markdown",
      "source": [
        "## Relacion de sistema de trasmisión "
      ],
      "metadata": {}
    },
    {
      "cell_type": "code",
      "source": [
        "Velocidades=[]\n",
        "DistanciasAcel=[]\n",
        "Tiempo_Acel=[]\n",
        "Tiempo_Freno=[]\n",
        "DistanciaFreno=[]\n",
        "ngs=[1.9,3.2,3.4,7.9]\n",
        "masas=np.linspace(149,153,20)\n",
        "mu_cs=np.linspace(0.5,1,5)"
      ],
      "outputs": [],
      "execution_count": 23,
      "metadata": {
        "inputHidden": false,
        "outputHidden": false
      }
    },
    {
      "cell_type": "code",
      "source": [
        "# Definicion de variables\n",
        "for ng in ngs:\n",
        "    x_0=0\n",
        "    v_0=0\n",
        "    a_0=0\n",
        "    c_ini = [x_0,v_0]\n",
        "    t=np.arange(t_in,t_acel,deltat)\n",
        "    acel=[]\n",
        "    vel=[]\n",
        "    pos=[]\n",
        "    pos.append(x_0) \n",
        "    v=v_0\n",
        "    a=a_0\n",
        "    acel.append(a)\n",
        "    vel.append(v)\n",
        "   \n",
        "\n",
        "    ## Solucion\n",
        "    sol = odeint(aceleracion,c_ini,t)\n",
        "    vel=sol[:,1]\n",
        "    posicion(sol[:,1],pos,t)\n",
        "    ##\n",
        "    t2=np.arange(t_in,t_fren,deltat)\n",
        "    x_f=0\n",
        "    v_f=max(vel)\n",
        "    pos2=[]\n",
        "    pos2.append(x_f)\n",
        "    vel2=[]\n",
        "    acel2=[]\n",
        "    acel2.append(acel[len(acel)-1])\n",
        "    c_ini2=[x_f,v_f]\n",
        "    ##\n",
        "    sol2 = odeint(frenado,c_ini2,t2)\n",
        "    posicion(sol2[:,1],pos2,t2)\n",
        "    ##\n",
        "    Velmax=VelocidadMaxima(sol[:,1])[0]\n",
        "    Velocidades.append(Velmax)\n",
        "    u=VelocidadMaxima(sol[:,1])[-1];\n",
        "    dist_acel=pos[u]\n",
        "    DistanciasAcel.append(dist_acel)\n",
        "    t_max=t[u]\n",
        "    Tiempo_Acel.append(t_max)\n",
        "    ##\n",
        "    Velmin=max(sol2[:,1])\n",
        "    dist_fren=max(pos2)\n",
        "    b=0\n",
        "    for i,v in enumerate(sol2[:,1]):\n",
        "        #print(v,i)\n",
        "        if ((v>0)&(v>1e-5)):        \n",
        "           b=i\n",
        "    t_max2=t2[b]\n",
        "    DistanciaFreno.append(dist_fren)\n",
        "    Tiempo_Freno.append(t_max2)\n",
        "    u=VelocidadMaxima(sol[:,1])[-1]\n",
        "    recorrido=[]\n",
        "    t_r=[]\n",
        "    vel_rec=[]\n",
        "    for i in range(0,u+1):\n",
        "        vel_rec.append(sol[i,1])\n",
        "        recorrido.append(pos[i])\n",
        "        t_r.append(t[i])\n",
        "\n",
        "    for i in range(0,b+1):\n",
        "        vel_rec.append(sol2[i,1])\n",
        "        recorrido.append(max(pos)+pos2[i])\n",
        "        t_r.append(max(t)+t2[i])\n",
        "    \n",
        "    #plt.ion()\n",
        "    #lt.plot(t_r,recorrido,label=ng)\n",
        "    plt.xlabel(\"Tiempo [s]\")\n",
        "   # plt.ylabel(\"Distancia [m]\",color='b')\n",
        "    plt.grid(True)\n",
        "    #plt.legend(loc='best')\n",
        "    #plt.twinx()\n",
        "    plt.plot(t_r,vel_rec,label=ng)\n",
        "    plt.xlabel(\"Tiempo [s]\")\n",
        "    plt.ylabel(\"Velocidad [m/s]\",color='r')\n",
        "    plt.legend(loc='best')\n",
        "    plt.title(\"Velocidad variando la relacion de transmisión \")\n",
        "    \n"
      ],
      "outputs": [
        {
          "output_type": "display_data",
          "data": {
            "text/plain": [
              "<matplotlib.figure.Figure at 0xc9442c3eb8>"
            ],
            "image/png": "[encoded data removed]"
          },
          "metadata": {}
        }
      ],
      "execution_count": 24,
      "metadata": {
        "inputHidden": false,
        "outputHidden": false
      }
    },
    {
      "cell_type": "markdown",
      "source": [
        "Para la grafica anterior se puede observar que a mayor relación de trasmision se alcanza una velocidad mucho mayor, pero a su vez con un tiempo mayor para llegar a dicha velocidad. Por otro lado, se tiene que el tiempo de frenado (*hasta llegar a reposo*) tambien es *proporcional* a la relación de trasmición usada"
      ],
      "metadata": {}
    },
    {
      "cell_type": "code",
      "source": [
        "d={\"Tiempo de Frenado[s]\":Tiempo_Freno,\"Distancia de Frenado[m]\":DistanciaFreno,'Velocidad Maxima [m/s]':Velocidades,'Distancias Aceleración[m]': DistanciasAcel,\"Tiempo Velocidad Maxima [s]\":Tiempo_Acel}\n",
        "Resultados=pd.DataFrame(data=d,index=ngs)\n",
        "Resultados"
      ],
      "outputs": [
        {
          "output_type": "execute_result",
          "execution_count": 25,
          "data": {
            "text/plain": [
              "     Distancia de Frenado[m]  Distancias Aceleración[m]  \\\n",
              "1.9                36.538590                2081.943116   \n",
              "3.2                42.630796                2475.287811   \n",
              "3.4                45.154354                2506.063538   \n",
              "7.9                98.039095                3305.411924   \n",
              "\n",
              "     Tiempo Velocidad Maxima [s]  Tiempo de Frenado[s]  Velocidad Maxima [m/s]  \n",
              "1.9                       92.883                 2.753               26.949577  \n",
              "3.2                       97.218                 2.970               29.226727  \n",
              "3.4                       95.860                 3.055               30.126387  \n",
              "7.9                       82.759                 4.451               45.949849  "
            ],
            "text/html": [
              "<div>\n",
              "<style scoped>\n",
              "    .dataframe tbody tr th:only-of-type {\n",
              "        vertical-align: middle;\n",
              "    }\n",
              "\n",
              "    .dataframe tbody tr th {\n",
              "        vertical-align: top;\n",
              "    }\n",
              "\n",
              "    .dataframe thead th {\n",
              "        text-align: right;\n",
              "    }\n",
              "</style>\n",
              "<table border=\"1\" class=\"dataframe\">\n",
              "  <thead>\n",
              "    <tr style=\"text-align: right;\">\n",
              "      <th></th>\n",
              "      <th>Distancia de Frenado[m]</th>\n",
              "      <th>Distancias Aceleración[m]</th>\n",
              "      <th>Tiempo Velocidad Maxima [s]</th>\n",
              "      <th>Tiempo de Frenado[s]</th>\n",
              "      <th>Velocidad Maxima [m/s]</th>\n",
              "    </tr>\n",
              "  </thead>\n",
              "  <tbody>\n",
              "    <tr>\n",
              "      <th>1.9</th>\n",
              "      <td>36.538590</td>\n",
              "      <td>2081.943116</td>\n",
              "      <td>92.883</td>\n",
              "      <td>2.753</td>\n",
              "      <td>26.949577</td>\n",
              "    </tr>\n",
              "    <tr>\n",
              "      <th>3.2</th>\n",
              "      <td>42.630796</td>\n",
              "      <td>2475.287811</td>\n",
              "      <td>97.218</td>\n",
              "      <td>2.970</td>\n",
              "      <td>29.226727</td>\n",
              "    </tr>\n",
              "    <tr>\n",
              "      <th>3.4</th>\n",
              "      <td>45.154354</td>\n",
              "      <td>2506.063538</td>\n",
              "      <td>95.860</td>\n",
              "      <td>3.055</td>\n",
              "      <td>30.126387</td>\n",
              "    </tr>\n",
              "    <tr>\n",
              "      <th>7.9</th>\n",
              "      <td>98.039095</td>\n",
              "      <td>3305.411924</td>\n",
              "      <td>82.759</td>\n",
              "      <td>4.451</td>\n",
              "      <td>45.949849</td>\n",
              "    </tr>\n",
              "  </tbody>\n",
              "</table>\n",
              "</div>"
            ]
          },
          "metadata": {}
        }
      ],
      "execution_count": 25,
      "metadata": {
        "inputHidden": false,
        "outputHidden": false
      }
    },
    {
      "cell_type": "markdown",
      "source": [
        "## Masa del kart"
      ],
      "metadata": {}
    },
    {
      "cell_type": "code",
      "source": [
        "Velocidades=[]\n",
        "DistanciasAcel=[]\n",
        "Tiempo_Acel=[]\n",
        "Tiempo_Freno=[]\n",
        "DistanciaFreno=[]\n",
        "ngs=[2,3.2,3.4,4]\n",
        "masas=np.linspace(149,153,5)\n",
        "mu_cs=np.linspace(0.5,1,5)"
      ],
      "outputs": [],
      "execution_count": 26,
      "metadata": {
        "inputHidden": false,
        "outputHidden": false
      }
    },
    {
      "cell_type": "code",
      "source": [
        "# Definicion de variables\n",
        "for masa in masas:\n",
        "    x_0=0\n",
        "    v_0=0\n",
        "    a_0=0\n",
        "    c_ini = [x_0,v_0]\n",
        "    t=np.arange(t_in,t_acel,deltat)\n",
        "    acel=[]\n",
        "    vel=[]\n",
        "    pos=[]\n",
        "    pos.append(x_0) \n",
        "    v=v_0\n",
        "    a=a_0\n",
        "    acel.append(a)\n",
        "    vel.append(v)\n",
        "   \n",
        "\n",
        "    ## Solucion\n",
        "    sol = odeint(aceleracion,c_ini,t)\n",
        "    vel=sol[:,1]\n",
        "    posicion(sol[:,1],pos,t)\n",
        "    ##\n",
        "    t2=np.arange(t_in,t_fren,deltat)\n",
        "    x_f=0\n",
        "    v_f=max(vel)\n",
        "    pos2=[]\n",
        "    pos2.append(x_f)\n",
        "    vel2=[]\n",
        "    acel2=[]\n",
        "    acel2.append(acel[len(acel)-1])\n",
        "    c_ini2=[x_f,v_f]\n",
        "    ##\n",
        "    sol2 = odeint(frenado,c_ini2,t2)\n",
        "    posicion(sol2[:,1],pos2,t2)\n",
        "    ##\n",
        "    Velmax=VelocidadMaxima(sol[:,1])[0]\n",
        "    Velocidades.append(Velmax)\n",
        "    u=VelocidadMaxima(sol[:,1])[-1];\n",
        "    dist_acel=pos[u]\n",
        "    DistanciasAcel.append(dist_acel)\n",
        "    t_max=t[u]\n",
        "    Tiempo_Acel.append(t_max)\n",
        "    ##\n",
        "    Velmin=max(sol2[:,1])\n",
        "    dist_fren=max(pos2)\n",
        "    b=0\n",
        "    for i,v in enumerate(sol2[:,1]):\n",
        "        #print(v,i)\n",
        "        if ((v>0)&(v>1e-5)):        \n",
        "           b=i\n",
        "    t_max2=t2[b]\n",
        "    DistanciaFreno.append(dist_fren)\n",
        "    Tiempo_Freno.append(t_max2)\n",
        "    "
      ],
      "outputs": [
        {
          "output_type": "stream",
          "name": "stderr",
          "text": [
            "C:\\Users\\Eduardo\\Pictures\\Anaconda3\\lib\\site-packages\\scipy\\integrate\\odepack.py:218: ODEintWarning: Excess work done on this call (perhaps wrong Dfun type). Run with full_output = 1 to get quantitative information.\n",
            "  warnings.warn(warning_msg, ODEintWarning)\n"
          ]
        }
      ],
      "execution_count": 27,
      "metadata": {
        "inputHidden": false,
        "outputHidden": false
      }
    },
    {
      "cell_type": "code",
      "source": [
        "d={\"Tiempo de Frenado[s]\":Tiempo_Freno,\"Distancia de Frenado[m]\":DistanciaFreno,'Velocidad Maxima [m/s]':Velocidades,'Distancias Aceleración[m]': DistanciasAcel,\"Tiempo Velocidad Maxima [s]\":Tiempo_Acel}\n",
        "Resultados=pd.DataFrame(data=d,index=masas)\n",
        "Resultados"
      ],
      "outputs": [
        {
          "output_type": "execute_result",
          "execution_count": 28,
          "data": {
            "text/plain": [
              "       Distancia de Frenado[m]  Distancias Aceleración[m]  \\\n",
              "149.0                96.409922                3085.497455   \n",
              "150.0                96.952998                3320.206098   \n",
              "151.0                97.496011                3525.747272   \n",
              "152.0                98.039095                3305.411924   \n",
              "153.0                98.582120                3493.535374   \n",
              "\n",
              "       Tiempo Velocidad Maxima [s]  Tiempo de Frenado[s]  \\\n",
              "149.0                       77.793                 4.377   \n",
              "150.0                       82.961                 4.402   \n",
              "151.0                       87.494                 4.427   \n",
              "152.0                       82.759                 4.451   \n",
              "153.0                       86.913                 4.476   \n",
              "\n",
              "       Velocidad Maxima [m/s]  \n",
              "149.0               45.947036  \n",
              "150.0               45.950504  \n",
              "151.0               45.952270  \n",
              "152.0               45.949849  \n",
              "153.0               45.951699  "
            ],
            "text/html": [
              "<div>\n",
              "<style scoped>\n",
              "    .dataframe tbody tr th:only-of-type {\n",
              "        vertical-align: middle;\n",
              "    }\n",
              "\n",
              "    .dataframe tbody tr th {\n",
              "        vertical-align: top;\n",
              "    }\n",
              "\n",
              "    .dataframe thead th {\n",
              "        text-align: right;\n",
              "    }\n",
              "</style>\n",
              "<table border=\"1\" class=\"dataframe\">\n",
              "  <thead>\n",
              "    <tr style=\"text-align: right;\">\n",
              "      <th></th>\n",
              "      <th>Distancia de Frenado[m]</th>\n",
              "      <th>Distancias Aceleración[m]</th>\n",
              "      <th>Tiempo Velocidad Maxima [s]</th>\n",
              "      <th>Tiempo de Frenado[s]</th>\n",
              "      <th>Velocidad Maxima [m/s]</th>\n",
              "    </tr>\n",
              "  </thead>\n",
              "  <tbody>\n",
              "    <tr>\n",
              "      <th>149.0</th>\n",
              "      <td>96.409922</td>\n",
              "      <td>3085.497455</td>\n",
              "      <td>77.793</td>\n",
              "      <td>4.377</td>\n",
              "      <td>45.947036</td>\n",
              "    </tr>\n",
              "    <tr>\n",
              "      <th>150.0</th>\n",
              "      <td>96.952998</td>\n",
              "      <td>3320.206098</td>\n",
              "      <td>82.961</td>\n",
              "      <td>4.402</td>\n",
              "      <td>45.950504</td>\n",
              "    </tr>\n",
              "    <tr>\n",
              "      <th>151.0</th>\n",
              "      <td>97.496011</td>\n",
              "      <td>3525.747272</td>\n",
              "      <td>87.494</td>\n",
              "      <td>4.427</td>\n",
              "      <td>45.952270</td>\n",
              "    </tr>\n",
              "    <tr>\n",
              "      <th>152.0</th>\n",
              "      <td>98.039095</td>\n",
              "      <td>3305.411924</td>\n",
              "      <td>82.759</td>\n",
              "      <td>4.451</td>\n",
              "      <td>45.949849</td>\n",
              "    </tr>\n",
              "    <tr>\n",
              "      <th>153.0</th>\n",
              "      <td>98.582120</td>\n",
              "      <td>3493.535374</td>\n",
              "      <td>86.913</td>\n",
              "      <td>4.476</td>\n",
              "      <td>45.951699</td>\n",
              "    </tr>\n",
              "  </tbody>\n",
              "</table>\n",
              "</div>"
            ]
          },
          "metadata": {}
        }
      ],
      "execution_count": 28,
      "metadata": {
        "inputHidden": false,
        "outputHidden": false
      }
    },
    {
      "cell_type": "markdown",
      "source": [
        "Cuando variamos ligeramente la masa del kart, * aunque es un poco dificil se puede lograr con cambios minimos como por ejemplo cambiando la suspención y el sistemas de baterias*, vemos que  las vvariables que se afectan  principalmente son:\n",
        "* El tiempo en alcanzar la velocidad maxima\n",
        "* Distancia reocrrida hasta llegar a la velocidad maxima \n",
        "* Tiempo de Frenado  \n",
        "\nA mayor masa del **kart** se obtiene una menor velocidad maxima y un mayor tiempo de frenado. Por eso es recomendable tratar de reducir lo maximo posible la masa del conjunto *kart-conductor*"
      ],
      "metadata": {}
    },
    {
      "cell_type": "markdown",
      "source": [
        "## Coficiente de adherencia entre las llantas y el asfalto. "
      ],
      "metadata": {}
    },
    {
      "cell_type": "code",
      "source": [
        "Velocidades=[]\n",
        "DistanciasAcel=[]\n",
        "Tiempo_Acel=[]\n",
        "Tiempo_Freno=[]\n",
        "DistanciaFreno=[]\n",
        "mu_cs=[0.5,0.75,1]"
      ],
      "outputs": [],
      "execution_count": 29,
      "metadata": {
        "inputHidden": false,
        "outputHidden": false
      }
    },
    {
      "cell_type": "code",
      "source": [
        "\n",
        "# Definicion de variables\n",
        "for mu_c in mu_cs:\n",
        "    x_0=0\n",
        "    v_0=0\n",
        "    a_0=0\n",
        "    c_ini = [x_0,v_0]\n",
        "    t=np.arange(t_in,t_acel,deltat)\n",
        "    acel=[]\n",
        "    vel=[]\n",
        "    pos=[]\n",
        "    pos.append(x_0) \n",
        "    v=v_0\n",
        "    a=a_0\n",
        "    acel.append(a)\n",
        "    vel.append(v)\n",
        "   \n",
        "\n",
        "    ## Solucion\n",
        "    sol = odeint(aceleracion,c_ini,t)\n",
        "    vel=sol[:,1]\n",
        "    posicion(sol[:,1],pos,t)\n",
        "    ##\n",
        "    t2=np.arange(t_in,t_fren,deltat)\n",
        "    x_f=0\n",
        "    v_f=max(vel)\n",
        "    pos2=[]\n",
        "    pos2.append(x_f)\n",
        "    vel2=[]\n",
        "    acel2=[]\n",
        "    acel2.append(acel[len(acel)-1])\n",
        "    c_ini2=[x_f,v_f]\n",
        "    ##\n",
        "    sol2 = odeint(frenado,c_ini2,t2)\n",
        "    posicion(sol2[:,1],pos2,t2)\n",
        "    ##*\n",
        "    Velmax=VelocidadMaxima(sol[:,1])[0]\n",
        "    Velocidades.append(Velmax)\n",
        "    u=VelocidadMaxima(sol[:,1])[-1];\n",
        "    dist_acel=pos[u]\n",
        "    DistanciasAcel.append(dist_acel)\n",
        "    t_max=t[u]\n",
        "    Tiempo_Acel.append(t_max)\n",
        "    ##\n",
        "    Velmin=max(sol2[:,1])\n",
        "    dist_fren=max(pos2)\n",
        "    b=0\n",
        "    for i,v in enumerate(sol2[:,1]):\n",
        "        #print(v,i)\n",
        "        if ((v>0)&(v>1e-5)):        \n",
        "           b=i\n",
        "    t_max2=t2[b]\n",
        "    DistanciaFreno.append(dist_fren)\n",
        "    Tiempo_Freno.append(t_max2)\n"
      ],
      "outputs": [],
      "execution_count": 30,
      "metadata": {
        "inputHidden": false,
        "outputHidden": false
      }
    },
    {
      "cell_type": "code",
      "source": [
        "d={\"Tiempo de Frenado[s]\":Tiempo_Freno,\"Distancia de Frenado[m]\":DistanciaFreno,'Velocidad Maxima [m/s]':Velocidades,'Distancias Aceleración[m]': DistanciasAcel,\"Tiempo Velocidad Maxima [s]\":Tiempo_Acel}\n",
        "Resultados=pd.DataFrame(data=d,index=mu_cs)\n",
        "Resultados"
      ],
      "outputs": [
        {
          "output_type": "execute_result",
          "execution_count": 31,
          "data": {
            "text/plain": [
              "      Distancia de Frenado[m]  Distancias Aceleración[m]  \\\n",
              "0.50               154.014418                3493.535374   \n",
              "0.75               126.838910                3493.535374   \n",
              "1.00                98.582120                3493.535374   \n",
              "\n",
              "      Tiempo Velocidad Maxima [s]  Tiempo de Frenado[s]  \\\n",
              "0.50                       86.913                 4.999   \n",
              "0.75                       86.913                 4.999   \n",
              "1.00                       86.913                 4.476   \n",
              "\n",
              "      Velocidad Maxima [m/s]  \n",
              "0.50               45.951699  \n",
              "0.75               45.951699  \n",
              "1.00               45.951699  "
            ],
            "text/html": [
              "<div>\n",
              "<style scoped>\n",
              "    .dataframe tbody tr th:only-of-type {\n",
              "        vertical-align: middle;\n",
              "    }\n",
              "\n",
              "    .dataframe tbody tr th {\n",
              "        vertical-align: top;\n",
              "    }\n",
              "\n",
              "    .dataframe thead th {\n",
              "        text-align: right;\n",
              "    }\n",
              "</style>\n",
              "<table border=\"1\" class=\"dataframe\">\n",
              "  <thead>\n",
              "    <tr style=\"text-align: right;\">\n",
              "      <th></th>\n",
              "      <th>Distancia de Frenado[m]</th>\n",
              "      <th>Distancias Aceleración[m]</th>\n",
              "      <th>Tiempo Velocidad Maxima [s]</th>\n",
              "      <th>Tiempo de Frenado[s]</th>\n",
              "      <th>Velocidad Maxima [m/s]</th>\n",
              "    </tr>\n",
              "  </thead>\n",
              "  <tbody>\n",
              "    <tr>\n",
              "      <th>0.50</th>\n",
              "      <td>154.014418</td>\n",
              "      <td>3493.535374</td>\n",
              "      <td>86.913</td>\n",
              "      <td>4.999</td>\n",
              "      <td>45.951699</td>\n",
              "    </tr>\n",
              "    <tr>\n",
              "      <th>0.75</th>\n",
              "      <td>126.838910</td>\n",
              "      <td>3493.535374</td>\n",
              "      <td>86.913</td>\n",
              "      <td>4.999</td>\n",
              "      <td>45.951699</td>\n",
              "    </tr>\n",
              "    <tr>\n",
              "      <th>1.00</th>\n",
              "      <td>98.582120</td>\n",
              "      <td>3493.535374</td>\n",
              "      <td>86.913</td>\n",
              "      <td>4.476</td>\n",
              "      <td>45.951699</td>\n",
              "    </tr>\n",
              "  </tbody>\n",
              "</table>\n",
              "</div>"
            ]
          },
          "metadata": {}
        }
      ],
      "execution_count": 31,
      "metadata": {
        "inputHidden": false,
        "outputHidden": false
      }
    },
    {
      "cell_type": "markdown",
      "source": [
        "Al revisar el comportamiento de las variables importantes con el cambio del coeficiente de adheción, se los procesos afectados son los relacionados al frenado. A menor coeficiente, se tiene una mayor distancia y mayor tiempo en el frenado."
      ],
      "metadata": {}
    },
    {
      "cell_type": "markdown",
      "source": [
        "# Conclusiones y recomendaciones \n",
        "* Se recomienda usar en el kart una relacion de trasmision intermedia como **3.4**, tratar de reducir la masa del conjunto *kart-conductor* lo maximo posible y usar llantas con la el mayor coeficiente de adherencia posible."
      ],
      "metadata": {}
    },
    {
      "cell_type": "markdown",
      "source": [],
      "metadata": {}
    }
  ],
  "metadata": {
    "kernel_info": {
      "name": "python3"
    },
    "kernelspec": {
      "name": "python3",
      "language": "python",
      "display_name": "Python 3"
    },
    "language_info": {
      "name": "python",
      "version": "3.6.4",
      "mimetype": "text/x-python",
      "codemirror_mode": {
        "name": "ipython",
        "version": 3
      },
      "pygments_lexer": "ipython3",
      "nbconvert_exporter": "python",
      "file_extension": ".py"
    },
    "nteract": {
      "version": "0.8.3"
    }
  },
  "nbformat": 4,
  "nbformat_minor": 4
}