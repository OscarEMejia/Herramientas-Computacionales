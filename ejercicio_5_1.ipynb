{
  "cells": [
    {
      "cell_type": "markdown",
      "source": [
        "Ejercicio 5.2\n",
        "\n\n\n\n\n"
      ],
      "metadata": {
        "collapsed": false,
        "outputHidden": false,
        "inputHidden": false
      }
    },
    {
      "cell_type": "code",
      "source": [
        "import numpy as n\n",
        "import matplotlib.pyplot \n",
        "from scipy import interpolate"
      ],
      "outputs": [
        {
          "output_type": "error",
          "ename": "SyntaxError",
          "evalue": "Unexpected token import",
          "traceback": [
            "evalmachine.<anonymous>:1",
            "import matplotlib.pyplot ",
            "^^^^^^",
            "SyntaxError: Unexpected token import",
            "    at createScript (vm.js:53:10)",
            "    at Object.runInThisContext (vm.js:95:10)",
            "    at run ([eval]:971:15)",
            "    at onRunRequest ([eval]:798:18)",
            "    at onMessage ([eval]:758:13)",
            "    at emitTwo (events.js:106:13)",
            "    at process.emit (events.js:194:7)",
            "    at process.nextTick (internal/child_process.js:766:12)",
            "    at _combinedTickCallback (internal/process/next_tick.js:73:7)",
            "    at process._tickCallback (internal/process/next_tick.js:104:9)"
          ]
        }
      ],
      "execution_count": 14,
      "metadata": {
        "collapsed": false,
        "outputHidden": false,
        "inputHidden": false,
        "outputExpanded": true
      }
    },
    {
      "cell_type": "code",
      "source": [
        "lamda =[ 50,70,90,110,130]\n",
        "tau=[6.01,7.48,8.59,9.19,10.21]\n",
        "plt.plot(lambda,tau)"
      ],
      "outputs": [
        {
          "output_type": "error",
          "ename": "ReferenceError",
          "evalue": "plt is not defined",
          "traceback": [
            "ReferenceError: plt is not defined",
            "    at evalmachine.<anonymous>:3:1",
            "    at ContextifyScript.Script.runInThisContext (vm.js:23:33)",
            "    at Object.runInThisContext (vm.js:95:38)",
            "    at run ([eval]:971:15)",
            "    at onRunRequest ([eval]:798:18)",
            "    at onMessage ([eval]:758:13)",
            "    at emitTwo (events.js:106:13)",
            "    at process.emit (events.js:194:7)",
            "    at process.nextTick (internal/child_process.js:766:12)",
            "    at _combinedTickCallback (internal/process/next_tick.js:73:7)"
          ]
        }
      ],
      "execution_count": 15,
      "metadata": {
        "collapsed": false,
        "outputHidden": false,
        "inputHidden": false
      }
    }
  ],
  "metadata": {
    "kernelspec": {
      "name": "node_nteract",
      "language": "javascript",
      "display_name": "Node.js (nteract)"
    },
    "kernel_info": {
      "name": "node_nteract"
    },
    "language_info": {
      "name": "javascript",
      "version": "7.9.0",
      "mimetype": "application/javascript",
      "file_extension": ".js"
    },
    "nteract": {
      "version": "0.5.5"
    }
  },
  "nbformat": 4,
  "nbformat_minor": 4
}